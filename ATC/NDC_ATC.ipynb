{
 "cells": [
  {
   "cell_type": "code",
   "execution_count": 2,
   "id": "95878a73",
   "metadata": {},
   "outputs": [],
   "source": [
    "import pandas as pd\n",
    "import numpy as np\n",
    "import requests\n",
    "import shelve\n",
    "from datetime import datetime\n",
    "import os\n",
    "\n",
    "#For the dropdown plot below\n",
    "import seaborn as sns\n",
    "from ipywidgets import interact, Dropdown\n",
    "from plotly.subplots import make_subplots\n",
    "import matplotlib.pyplot as plt\n",
    "import plotly.express as px\n",
    "import plotly.graph_objects as go"
   ]
  },
  {
   "cell_type": "code",
   "execution_count": 3,
   "id": "c2560803",
   "metadata": {},
   "outputs": [],
   "source": [
    "user=\"lholguin\"\n",
    "#user=asus"
   ]
  },
  {
   "cell_type": "code",
   "execution_count": 4,
   "id": "6478c6ca",
   "metadata": {},
   "outputs": [
    {
     "name": "stdout",
     "output_type": "stream",
     "text": [
      "Reading CSV file with proper dtype to preserve leading zeros...\n",
      "Total rows in 2024 before filtering: 5205065\n",
      "Rows removed by NA filter: 2605317\n",
      "Total rows after removing NA values in Units/Prescriptions: 2599748\n",
      "Total rows after filtering out State='XX': 2362630\n",
      "Unique NDCs 33397\n",
      "Index(['Utilization Type', 'State', 'NDC', 'Labeler Code', 'Product Code',\n",
      "       'Package Size', 'Year', 'Quarter', 'Suppression Used', 'Product Name',\n",
      "       'Units Reimbursed', 'Number of Prescriptions',\n",
      "       'Total Amount Reimbursed', 'Medicaid Amount Reimbursed',\n",
      "       'Non Medicaid Amount Reimbursed'],\n",
      "      dtype='object')\n"
     ]
    }
   ],
   "source": [
    "# Read the CSV file with NDC column as string to preserve leading zeros\n",
    "year = 2024\n",
    "csv_file = rf\"c:\\Users\\{user}\\OneDrive - purdue.edu\\VS code\\Data\\SDUD\\SDUD{year}.csv\"\n",
    "\n",
    "print(\"Reading CSV file with proper dtype to preserve leading zeros...\")\n",
    "\n",
    "# Force NDC column to be read as string/object to preserve leading zeros\n",
    "df = pd.read_csv(csv_file, dtype={'NDC': 'object'})\n",
    "\n",
    "# Filter out rows with NA values in 'Units Reimbursed' or 'Number of Prescriptions' first\n",
    "print(rf\"Total rows in {year} before filtering: {len(df)}\")\n",
    "df_filtered = df.dropna(subset=['Units Reimbursed', 'Number of Prescriptions'])\n",
    "print(f\"Rows removed by NA filter: {len(df) - len(df_filtered)}\")\n",
    "print(f\"Total rows after removing NA values in Units/Prescriptions: {len(df_filtered)}\")\n",
    "\n",
    "\n",
    "# Then filter out rows where State column equals 'XX'\n",
    "before_state_filter = len(df_filtered)\n",
    "df_filtered = df_filtered[df_filtered['State'] != 'XX']\n",
    "print(f\"Total rows after filtering out State='XX': {len(df_filtered)}\")\n",
    "#print(f\"Rows removed by State filter: {before_state_filter - len(df_filtered)}\")\n",
    "print(\"Unique NDCs\", df_filtered['NDC'].nunique())\n",
    "#print(df_filtered.columns)\n",
    "print(df_filtered.columns)\n"
   ]
  },
  {
   "cell_type": "code",
   "execution_count": 5,
   "id": "5fcf539d",
   "metadata": {},
   "outputs": [
    {
     "name": "stdout",
     "output_type": "stream",
     "text": [
      "Extracting 2362630 NDC codes (All) with leading zeros preserved (excluding State='XX' and NA values)...\n",
      "Unique NDC values: 33397\n",
      "First 10 NDC values (with leading zeros):\n",
      "['00002143380', '00002143480', '00002143611', '00002144511', '00002145780', '00002146080', '00002147180', '00002148480', '00002149580', '00002150680']\n"
     ]
    }
   ],
   "source": [
    "#Generating the txt file with the NDC values\n",
    "# Save to text file\n",
    "\n",
    "# Extract NDC column from filtered data - it's already in string format now\n",
    "ndc_values = df_filtered['NDC']\n",
    "output_file = rf\"C:\\Users\\{user}\\OneDrive - purdue.edu\\VS code\\Data\\ATC\\text_files\\NDCf_{year}.txt\"\n",
    "print(f\"Extracting {len(ndc_values)} NDC codes (All) with leading zeros preserved (excluding State='XX' and NA values)...\")\n",
    "\n",
    "#with open(output_file, 'w') as f:\n",
    "    #for ndc in ndc_values:\n",
    "        #f.write(str(ndc) + '\\n')\n",
    "\n",
    "#print(f\"Successfully saved {len(ndc_values)} NDC values to NDCf_{year}.txt (State != 'XX', no NA values)\")\n",
    "print(f\"Unique NDC values: {ndc_values.nunique()}\")\n",
    "print(\"First 10 NDC values (with leading zeros):\")\n",
    "print(ndc_values.head(10).tolist())"
   ]
  },
  {
   "cell_type": "code",
   "execution_count": 6,
   "id": "4d9c8a17",
   "metadata": {},
   "outputs": [
    {
     "name": "stdout",
     "output_type": "stream",
     "text": [
      "Unique ATC4 Classes in ATC4 mapping file: 612\n",
      "Index(['NDC', 'ATC4 Class'], dtype='object')\n",
      "Unique NDCs of ATC csv 2024: 32204\n",
      "Total rows 61470\n",
      "ATC4 Class\n",
      "H02AB    894\n",
      "N06BA    762\n",
      "S01BA    757\n",
      "N06AX    746\n",
      "C05AA    746\n",
      "B05XA    723\n",
      "R01AD    718\n",
      "N03AX    702\n",
      "S01AA    698\n",
      "C10AA    655\n",
      "Name: count, dtype: int64\n",
      "Filtered dataset has 2362630 rows\n",
      "Merged dataframe has 4360194 rows\n",
      "Unique NDCs in merged dataframe: 33397\n",
      "count\n",
      "1     21590\n",
      "2      4098\n",
      "3      3168\n",
      "4       911\n",
      "5       718\n",
      "7       523\n",
      "11      270\n",
      "8       267\n",
      "6       241\n",
      "9       179\n",
      "Name: count, dtype: int64\n"
     ]
    }
   ],
   "source": [
    "#Once you have run the code n2c.py then you'll have the ATC4 csv file to read in\n",
    "\n",
    "# read ATC4 mapping, ensure NDC is read as string and zero-padded to 11 digits\n",
    "file_path=rf'C:\\Users\\{user}\\OneDrive - purdue.edu\\VS code\\Data\\ATC\\ATC4_classes\\NDCf_{year}_ATC4_classes.csv'\n",
    "\n",
    "df_atc4 = pd.read_csv(file_path, dtype={'NDC': 'object'})\n",
    "df_atc4['NDC'] = df_atc4['NDC'].str.zfill(11)\n",
    "#How many unique atc4 classes are there in the mapping file?\n",
    "print(f\"Unique ATC4 Classes in ATC4 mapping file: {df_atc4['ATC4 Class'].nunique()}\")\n",
    "\n",
    "print(df_atc4.columns)\n",
    "print( rf\"Unique NDCs of ATC csv {year}:\", df_atc4['NDC'].nunique())\n",
    "print(\"Total rows\", len(df_atc4))\n",
    "top_classes = df_atc4['ATC4 Class'].value_counts()\n",
    "print(top_classes.head(10))\n",
    "print(f\"Filtered dataset has {len(df_filtered)} rows\")\n",
    "\n",
    "# Merge filtered SDUD data with ATC4 mapping on NDC\n",
    "\n",
    "merged_df=pd.merge(df_filtered, df_atc4, on='NDC', how='left')\n",
    "print(f\"Merged dataframe has {len(merged_df)} rows\")\n",
    "print(f\"Unique NDCs in merged dataframe: {merged_df['NDC'].nunique()}\")\n",
    "atc_counts = df_atc4['NDC'].value_counts()\n",
    "print(atc_counts.value_counts().head(10))\n"
   ]
  },
  {
   "cell_type": "code",
   "execution_count": 7,
   "id": "0933b97a",
   "metadata": {},
   "outputs": [
    {
     "name": "stdout",
     "output_type": "stream",
     "text": [
      "NDCs without ATC4 Class in 2024 df: 1193\n",
      "NDCs with ATC4 Class in 2024 df: 32204\n",
      "Saved missing NDCs to C:\\Users\\lholguin\\OneDrive - purdue.edu\\VS code\\Data\\ATC\\text_files\\NDC_missing_2024.txt\n",
      "Unique ATC4 Classes in 2024 merged dataframe: 612\n"
     ]
    }
   ],
   "source": [
    "# Looking at the unique ndc codes that does not have an atc4 class\n",
    "missing_atc = merged_df[merged_df['ATC4 Class'].isna()]\n",
    "print(rf\"NDCs without ATC4 Class in {year} df: {missing_atc['NDC'].nunique()}\")\n",
    "#print(missing_atc['NDC'].head(10).tolist())\n",
    "existing_atc = merged_df[merged_df['ATC4 Class'].notna()]\n",
    "print(rf\"NDCs with ATC4 Class in {year} df: {existing_atc['NDC'].nunique()}\")\n",
    "\n",
    "#Let's print those NDC codes to a text file to see if they have atc5 classes\n",
    "missing_ndc_file = rf\"C:\\Users\\{user}\\OneDrive - purdue.edu\\VS code\\Data\\ATC\\text_files\\NDC_missing_{year}.txt\"\n",
    "with open(missing_ndc_file, 'w') as f:\n",
    "    for ndc in missing_atc['NDC'].unique():\n",
    "        f.write(str(ndc) + '\\n')\n",
    "print(f\"Saved missing NDCs to {missing_ndc_file}\")\n",
    "\n",
    "#Looking at the unique atc4 classes in the merged dataframe\n",
    "print(rf\"Unique ATC4 Classes in {year} merged dataframe: {merged_df['ATC4 Class'].nunique()}\")\n"
   ]
  },
  {
   "cell_type": "code",
   "execution_count": 8,
   "id": "d6217936",
   "metadata": {},
   "outputs": [
    {
     "name": "stdout",
     "output_type": "stream",
     "text": [
      "           NDC            ATC5 Class\n",
      "0  50419032513        No RxCUI Found\n",
      "1     26394825  No ATC Mapping Found\n",
      "2  65219028102        No RxCUI Found\n",
      "3    990799009        No RxCUI Found\n",
      "4  51645073099        No RxCUI Found\n",
      "Unique RxCUI in missing NDC mapping for 2024: 908\n",
      "Unique ATC5 Class in missing NDC mapping for 2024: 285\n"
     ]
    }
   ],
   "source": [
    "#Note that using the mapping atc5 for missing ndc is a little bit more detailed. Let's analyze it\n",
    "miss_path=rf'C:\\Users\\{user}\\OneDrive - purdue.edu\\VS code\\Data\\ATC\\NDC_missing_ATC5\\NDC_missing_{year}_ATC5_classes.csv'\n",
    "# C:\\Users\\lholguin\\OneDrive - purdue.edu\\VS code\\Data\\ATC\\NDC_missing_2024_ATC5_classes.csv\n",
    "df_miss=pd.read_csv(miss_path)\n",
    "print(df_miss.head())\n",
    "Rxcui_no = df_miss[df_miss['ATC5 Class'] == 'No RxCUI Found'].shape[0]\n",
    "ATClass_no = df_miss[df_miss['ATC5 Class'] == 'No ATC Mapping Found'].shape[0]\n",
    "print(f\"Unique RxCUI in missing NDC mapping for {year}: {Rxcui_no}\")\n",
    "print(f\"Unique ATC5 Class in missing NDC mapping for {year}: {ATClass_no}\")"
   ]
  },
  {
   "cell_type": "code",
   "execution_count": 9,
   "id": "894dd361",
   "metadata": {},
   "outputs": [
    {
     "name": "stdout",
     "output_type": "stream",
     "text": [
      "Using cache: C:\\Users\\lholguin\\OneDrive - purdue.edu\\VS code\\Data\\ATC\\cache_files\\atc_names_cache\n",
      "Reading C:\\Users\\lholguin\\OneDrive - purdue.edu\\VS code\\Data\\ATC\\ATC4_classes\\NDCf_2024_ATC4_classes.csv...\n",
      "Total rows: 61470\n",
      "Original columns: ['NDC', 'ATC4 Class']\n",
      "\n",
      "Creating ATC3 and ATC2 columns from ATC4...\n",
      "  ATC4 Class ATC3 Class ATC2 Class\n",
      "0      N01BA       N01B        N01\n",
      "1      A01AC       A01A        A01\n",
      "2      A16AX       A16A        A16\n",
      "3      R06AX       R06A        R06\n",
      "4      S02BA       S02B        S02\n",
      "5      B03BA       B03B        B03\n",
      "6      D11AX       D11A        D11\n",
      "7      C07AB       C07A        C07\n",
      "8      C01BB       C01B        C01\n",
      "9      B01AB       B01A        B01\n",
      "\n",
      "Unique codes to fetch:\n",
      "  ATC4: 612\n",
      "  ATC3: 212\n",
      "  ATC2: 89\n",
      "\n",
      "Unique ATC4 Classes: 612\n",
      "Unique ATC3 Classes: 212\n",
      "Unique ATC2 Classes: 89\n",
      "\n",
      "Fetching ATC4 names...\n",
      "Progress: 10/913 (1.1%) - Rate: 10373.4 codes/sec - ETA: 0.0 min\n",
      "Progress: 20/913 (2.2%) - Rate: 17271.2 codes/sec - ETA: 0.0 min\n",
      "Progress: 30/913 (3.3%) - Rate: 22918.3 codes/sec - ETA: 0.0 min\n",
      "Progress: 40/913 (4.4%) - Rate: 27378.5 codes/sec - ETA: 0.0 min\n",
      "Progress: 50/913 (5.5%) - Rate: 31289.1 codes/sec - ETA: 0.0 min\n",
      "Progress: 60/913 (6.6%) - Rate: 34582.1 codes/sec - ETA: 0.0 min\n",
      "Progress: 70/913 (7.7%) - Rate: 37194.5 codes/sec - ETA: 0.0 min\n",
      "Progress: 80/913 (8.8%) - Rate: 39486.7 codes/sec - ETA: 0.0 min\n",
      "Progress: 90/913 (9.9%) - Rate: 41493.8 codes/sec - ETA: 0.0 min\n",
      "Progress: 100/913 (11.0%) - Rate: 41858.5 codes/sec - ETA: 0.0 min\n",
      "Progress: 110/913 (12.0%) - Rate: 43103.4 codes/sec - ETA: 0.0 min\n",
      "Progress: 120/913 (13.1%) - Rate: 44510.4 codes/sec - ETA: 0.0 min\n",
      "Progress: 130/913 (14.2%) - Rate: 45614.0 codes/sec - ETA: 0.0 min\n",
      "Progress: 140/913 (15.3%) - Rate: 45841.5 codes/sec - ETA: 0.0 min\n",
      "Progress: 150/913 (16.4%) - Rate: 46992.5 codes/sec - ETA: 0.0 min\n",
      "Progress: 160/913 (17.5%) - Rate: 48120.3 codes/sec - ETA: 0.0 min\n",
      "Progress: 170/913 (18.6%) - Rate: 49189.8 codes/sec - ETA: 0.0 min\n",
      "Progress: 180/913 (19.7%) - Rate: 50111.4 codes/sec - ETA: 0.0 min\n",
      "Progress: 190/913 (20.8%) - Rate: 50938.3 codes/sec - ETA: 0.0 min\n",
      "Progress: 200/913 (21.9%) - Rate: 51813.5 codes/sec - ETA: 0.0 min\n",
      "Progress: 210/913 (23.0%) - Rate: 52578.9 codes/sec - ETA: 0.0 min\n",
      "Progress: 220/913 (24.1%) - Rate: 53281.7 codes/sec - ETA: 0.0 min\n",
      "Progress: 230/913 (25.2%) - Rate: 53977.9 codes/sec - ETA: 0.0 min\n",
      "Progress: 240/913 (26.3%) - Rate: 54644.8 codes/sec - ETA: 0.0 min\n",
      "Progress: 250/913 (27.4%) - Rate: 55297.5 codes/sec - ETA: 0.0 min\n",
      "Progress: 260/913 (28.5%) - Rate: 55817.9 codes/sec - ETA: 0.0 min\n",
      "Progress: 270/913 (29.6%) - Rate: 56367.4 codes/sec - ETA: 0.0 min\n",
      "Progress: 280/913 (30.7%) - Rate: 56910.6 codes/sec - ETA: 0.0 min\n",
      "Progress: 290/913 (31.8%) - Rate: 56596.4 codes/sec - ETA: 0.0 min\n",
      "Progress: 300/913 (32.9%) - Rate: 56775.2 codes/sec - ETA: 0.0 min\n",
      "Progress: 310/913 (34.0%) - Rate: 57206.1 codes/sec - ETA: 0.0 min\n",
      "Progress: 320/913 (35.0%) - Rate: 57585.0 codes/sec - ETA: 0.0 min\n",
      "Progress: 330/913 (36.1%) - Rate: 58037.3 codes/sec - ETA: 0.0 min\n",
      "Progress: 340/913 (37.2%) - Rate: 58449.4 codes/sec - ETA: 0.0 min\n",
      "Progress: 350/913 (38.3%) - Rate: 58823.5 codes/sec - ETA: 0.0 min\n",
      "Progress: 360/913 (39.4%) - Rate: 59132.7 codes/sec - ETA: 0.0 min\n",
      "Progress: 370/913 (40.5%) - Rate: 59409.1 codes/sec - ETA: 0.0 min\n",
      "Progress: 380/913 (41.6%) - Rate: 59720.3 codes/sec - ETA: 0.0 min\n",
      "Progress: 390/913 (42.7%) - Rate: 60046.2 codes/sec - ETA: 0.0 min\n",
      "Progress: 400/913 (43.8%) - Rate: 60241.0 codes/sec - ETA: 0.0 min\n",
      "Progress: 410/913 (44.9%) - Rate: 60320.7 codes/sec - ETA: 0.0 min\n",
      "Progress: 420/913 (46.0%) - Rate: 60553.6 codes/sec - ETA: 0.0 min\n",
      "Progress: 430/913 (47.1%) - Rate: 60725.9 codes/sec - ETA: 0.0 min\n",
      "Progress: 440/913 (48.2%) - Rate: 60941.8 codes/sec - ETA: 0.0 min\n",
      "Progress: 450/913 (49.3%) - Rate: 61174.6 codes/sec - ETA: 0.0 min\n",
      "Progress: 460/913 (50.4%) - Rate: 61390.6 codes/sec - ETA: 0.0 min\n",
      "Progress: 470/913 (51.5%) - Rate: 61647.4 codes/sec - ETA: 0.0 min\n",
      "Progress: 480/913 (52.6%) - Rate: 61887.6 codes/sec - ETA: 0.0 min\n",
      "Progress: 490/913 (53.7%) - Rate: 62080.3 codes/sec - ETA: 0.0 min\n",
      "Progress: 500/913 (54.8%) - Rate: 62243.2 codes/sec - ETA: 0.0 min\n",
      "Progress: 510/913 (55.9%) - Rate: 62400.6 codes/sec - ETA: 0.0 min\n",
      "Progress: 520/913 (57.0%) - Rate: 62590.3 codes/sec - ETA: 0.0 min\n",
      "Progress: 530/913 (58.1%) - Rate: 62803.6 codes/sec - ETA: 0.0 min\n",
      "Progress: 540/913 (59.1%) - Rate: 63003.2 codes/sec - ETA: 0.0 min\n",
      "Progress: 550/913 (60.2%) - Rate: 63124.1 codes/sec - ETA: 0.0 min\n",
      "Progress: 560/913 (61.3%) - Rate: 63305.4 codes/sec - ETA: 0.0 min\n",
      "Progress: 570/913 (62.4%) - Rate: 63502.7 codes/sec - ETA: 0.0 min\n",
      "Progress: 580/913 (63.5%) - Rate: 63652.3 codes/sec - ETA: 0.0 min\n",
      "Progress: 590/913 (64.6%) - Rate: 63804.5 codes/sec - ETA: 0.0 min\n",
      "Progress: 600/913 (65.7%) - Rate: 63979.5 codes/sec - ETA: 0.0 min\n",
      "Progress: 610/913 (66.8%) - Rate: 64109.3 codes/sec - ETA: 0.0 min\n",
      "\n",
      "Fetching ATC3 names...\n",
      "Progress: 620/913 (67.9%) - Rate: 64228.7 codes/sec - ETA: 0.0 min\n",
      "Progress: 630/913 (69.0%) - Rate: 64384.3 codes/sec - ETA: 0.0 min\n",
      "Progress: 640/913 (70.1%) - Rate: 64542.2 codes/sec - ETA: 0.0 min\n",
      "Progress: 650/913 (71.2%) - Rate: 64663.7 codes/sec - ETA: 0.0 min\n",
      "Progress: 660/913 (72.3%) - Rate: 64801.2 codes/sec - ETA: 0.0 min\n",
      "Progress: 670/913 (73.4%) - Rate: 64909.9 codes/sec - ETA: 0.0 min\n",
      "Progress: 680/913 (74.5%) - Rate: 65046.9 codes/sec - ETA: 0.0 min\n",
      "Progress: 690/913 (75.6%) - Rate: 65186.6 codes/sec - ETA: 0.0 min\n",
      "Progress: 700/913 (76.7%) - Rate: 65322.9 codes/sec - ETA: 0.0 min\n",
      "Progress: 710/913 (77.8%) - Rate: 65443.8 codes/sec - ETA: 0.0 min\n",
      "Progress: 720/913 (78.9%) - Rate: 65585.7 codes/sec - ETA: 0.0 min\n",
      "Progress: 730/913 (80.0%) - Rate: 65677.0 codes/sec - ETA: 0.0 min\n",
      "Progress: 740/913 (81.1%) - Rate: 65748.6 codes/sec - ETA: 0.0 min\n",
      "Progress: 750/913 (82.1%) - Rate: 65870.4 codes/sec - ETA: 0.0 min\n",
      "Progress: 760/913 (83.2%) - Rate: 65989.4 codes/sec - ETA: 0.0 min\n",
      "Progress: 770/913 (84.3%) - Rate: 66117.1 codes/sec - ETA: 0.0 min\n",
      "Progress: 780/913 (85.4%) - Rate: 66236.4 codes/sec - ETA: 0.0 min\n",
      "Progress: 790/913 (86.5%) - Rate: 66325.2 codes/sec - ETA: 0.0 min\n",
      "Progress: 800/913 (87.6%) - Rate: 66203.2 codes/sec - ETA: 0.0 min\n",
      "Progress: 810/913 (88.7%) - Rate: 66284.8 codes/sec - ETA: 0.0 min\n",
      "Progress: 820/913 (89.8%) - Rate: 66386.0 codes/sec - ETA: 0.0 min\n",
      "\n",
      "Fetching ATC2 names...\n",
      "Progress: 830/913 (90.9%) - Rate: 66447.8 codes/sec - ETA: 0.0 min\n",
      "Progress: 840/913 (92.0%) - Rate: 66539.9 codes/sec - ETA: 0.0 min\n",
      "Progress: 850/913 (93.1%) - Rate: 66640.5 codes/sec - ETA: 0.0 min\n",
      "Progress: 860/913 (94.2%) - Rate: 66697.7 codes/sec - ETA: 0.0 min\n",
      "Progress: 870/913 (95.3%) - Rate: 66758.7 codes/sec - ETA: 0.0 min\n",
      "Progress: 880/913 (96.4%) - Rate: 66849.0 codes/sec - ETA: 0.0 min\n",
      "Progress: 890/913 (97.5%) - Rate: 66947.5 codes/sec - ETA: 0.0 min\n",
      "Progress: 900/913 (98.6%) - Rate: 67039.1 codes/sec - ETA: 0.0 min\n",
      "Progress: 910/913 (99.7%) - Rate: 67124.0 codes/sec - ETA: 0.0 min\n",
      "\n",
      "Total processing time: 0.0 minutes\n",
      "\n",
      "Applying names to dataframe...\n",
      "\n",
      "Saving to C:\\Users\\lholguin\\OneDrive - purdue.edu\\VS code\\Data\\ATC\\ATC4_names\\ATC4_names2024.csv...\n",
      "\n",
      "Complete! Output saved to: C:\\Users\\lholguin\\OneDrive - purdue.edu\\VS code\\Data\\ATC\\ATC4_names\\ATC4_names2024.csv\n",
      "Total rows: 61470\n",
      "\n",
      "Sample output:\n",
      "  ATC4 Class                                         ATC4_Name ATC3 Class  \\\n",
      "0      N01BA                       Esters of aminobenzoic acid       N01B   \n",
      "1      A01AC          Corticosteroids for local oral treatment       A01A   \n",
      "2      A16AX  Various alimentary tract and metabolism products       A16A   \n",
      "3      R06AX             Other antihistamines for systemic use       R06A   \n",
      "4      S02BA                                   Corticosteroids       S02B   \n",
      "5      B03BA        Vitamin B12 (cyanocobalamin and analogues)       B03B   \n",
      "6      D11AX                             Other dermatologicals       D11A   \n",
      "7      C07AB                   Beta blocking agents, selective       C07A   \n",
      "8      C01BB                         Antiarrhythmics, class Ib       C01B   \n",
      "9      B01AB                                     Heparin group       B01A   \n",
      "\n",
      "                                        ATC3_Name ATC2 Class  \\\n",
      "0                              ANESTHETICS, LOCAL        N01   \n",
      "1                     STOMATOLOGICAL PREPARATIONS        A01   \n",
      "2  OTHER ALIMENTARY TRACT AND METABOLISM PRODUCTS        A16   \n",
      "3                 ANTIHISTAMINES FOR SYSTEMIC USE        R06   \n",
      "4                                 CORTICOSTEROIDS        S02   \n",
      "5                      VITAMIN B12 AND FOLIC ACID        B03   \n",
      "6               OTHER DERMATOLOGICAL PREPARATIONS        D11   \n",
      "7                            BETA BLOCKING AGENTS        C07   \n",
      "8                ANTIARRHYTHMICS, CLASS I AND III        C01   \n",
      "9                           ANTITHROMBOTIC AGENTS        B01   \n",
      "\n",
      "                                        ATC2_Name  \n",
      "0                                     ANESTHETICS  \n",
      "1                     STOMATOLOGICAL PREPARATIONS  \n",
      "2  OTHER ALIMENTARY TRACT AND METABOLISM PRODUCTS  \n",
      "3                 ANTIHISTAMINES FOR SYSTEMIC USE  \n",
      "4                                     OTOLOGICALS  \n",
      "5                         ANTIANEMIC PREPARATIONS  \n",
      "6               OTHER DERMATOLOGICAL PREPARATIONS  \n",
      "7                            BETA BLOCKING AGENTS  \n",
      "8                                 CARDIAC THERAPY  \n",
      "9                           ANTITHROMBOTIC AGENTS  \n"
     ]
    }
   ],
   "source": [
    "#Function to get ATC class name from code\n",
    "def get_atc_name(atc_code, cache):\n",
    "    \"\"\"Get ATC class name from code, using cache.\"\"\"\n",
    "    cache_key = f\"atc_name:{atc_code}\"\n",
    "    if cache_key in cache:\n",
    "        return cache[cache_key]\n",
    "    \n",
    "    try:\n",
    "        url = f\"https://rxnav.nlm.nih.gov/REST/rxclass/class/byId.json?classId={atc_code}\"\n",
    "        response = requests.get(url)\n",
    "        response.raise_for_status()\n",
    "        data = response.json()\n",
    "        \n",
    "        # Get class name\n",
    "        if 'rxclassMinConceptList' in data and 'rxclassMinConcept' in data['rxclassMinConceptList']:\n",
    "            concepts = data['rxclassMinConceptList']['rxclassMinConcept']\n",
    "            if concepts:\n",
    "                name = concepts[0].get('className', '')\n",
    "                cache[cache_key] = name\n",
    "                return name\n",
    "        \n",
    "        cache[cache_key] = ''\n",
    "        return ''\n",
    "        \n",
    "    except Exception as e:\n",
    "        print(f\"Error retrieving name for {atc_code}: {e}\")\n",
    "        cache[cache_key] = ''\n",
    "        return ''\n",
    "\n",
    "def add_all_atc_names(input_file, output_file=None, cache_path=None):\n",
    "    \"\"\"Add ATC class names for all levels (ATC2, ATC3, ATC4).\"\"\"\n",
    "    \n",
    "    # Set up cache path\n",
    "    if cache_path is None:\n",
    "        cache_dir = os.path.join(os.path.dirname(input_file), 'cache_files')\n",
    "        os.makedirs(cache_dir, exist_ok=True)\n",
    "        cache_path = os.path.join(cache_dir, 'atc_names_cache')\n",
    "    \n",
    "    print(f\"Using cache: {cache_path}\")\n",
    "    \n",
    "    # Read CSV\n",
    "    print(f\"Reading {input_file}...\")\n",
    "    df = pd.read_csv(input_file, dtype={'NDC': 'object'})\n",
    "    \n",
    "    print(f\"Total rows: {len(df)}\")\n",
    "    print(f\"Original columns: {df.columns.tolist()}\")\n",
    "    \n",
    "    # Create ATC3 and ATC2 columns from ATC4\n",
    "    print(\"\\nCreating ATC3 and ATC2 columns from ATC4...\")\n",
    "    df['ATC3 Class'] = df['ATC4 Class'].str[:4]\n",
    "    df['ATC2 Class'] = df['ATC4 Class'].str[:3]\n",
    "    \n",
    "    print(df[['ATC4 Class', 'ATC3 Class', 'ATC2 Class']].head(10))\n",
    "    \n",
    "    # Add name columns\n",
    "    df['ATC4_Name'] = ''\n",
    "    df['ATC3_Name'] = ''\n",
    "    df['ATC2_Name'] = ''\n",
    "    \n",
    "    # Get unique codes for each level\n",
    "    unique_atc4 = df['ATC4 Class'].dropna().unique()\n",
    "    unique_atc3 = df['ATC3 Class'].dropna().unique()\n",
    "    unique_atc2 = df['ATC2 Class'].dropna().unique()\n",
    "    \n",
    "    # Filter out invalid codes\n",
    "    unique_atc4 = [c for c in unique_atc4 if c not in ['No ATC Mapping Found', 'No RxCUI Found', '']]\n",
    "    unique_atc3 = [c for c in unique_atc3 if c not in ['No ATC Mapping Found', 'No RxCUI Found', '', 'No ', 'No']]\n",
    "    unique_atc2 = [c for c in unique_atc2 if c not in ['No ATC Mapping Found', 'No RxCUI Found', '', 'No ', 'No']]\n",
    "    \n",
    "    print(f\"\\nUnique codes to fetch:\")\n",
    "    print(f\"  ATC4: {len(unique_atc4)}\")\n",
    "    print(f\"  ATC3: {len(unique_atc3)}\")\n",
    "    print(f\"  ATC2: {len(unique_atc2)}\")\n",
    "    \n",
    "    # Print unique counts\n",
    "    print(f\"\\nUnique ATC4 Classes: {len(unique_atc4)}\")\n",
    "    print(f\"Unique ATC3 Classes: {len(unique_atc3)}\")\n",
    "    print(f\"Unique ATC2 Classes: {len(unique_atc2)}\")\n",
    "    \n",
    "    total_codes = len(unique_atc4) + len(unique_atc3) + len(unique_atc2)\n",
    "    \n",
    "    # Build mappings\n",
    "    atc4_names = {}\n",
    "    atc3_names = {}\n",
    "    atc2_names = {}\n",
    "    \n",
    "    with shelve.open(cache_path) as cache:\n",
    "        start_time = datetime.now()\n",
    "        processed = 0\n",
    "        \n",
    "        # Process ATC4\n",
    "        print(\"\\nFetching ATC4 names...\")\n",
    "        for code in unique_atc4:\n",
    "            processed += 1\n",
    "            if processed % 10 == 0:\n",
    "                elapsed = (datetime.now() - start_time).total_seconds()\n",
    "                rate = processed / elapsed if elapsed > 0 else 0\n",
    "                remaining = (total_codes - processed) / rate if rate > 0 else 0\n",
    "                print(f\"Progress: {processed}/{total_codes} ({processed/total_codes*100:.1f}%) - \"\n",
    "                      f\"Rate: {rate:.1f} codes/sec - ETA: {remaining/60:.1f} min\")\n",
    "                cache.sync()\n",
    "            \n",
    "            atc4_names[code] = get_atc_name(code, cache)\n",
    "        \n",
    "        # Process ATC3\n",
    "        print(\"\\nFetching ATC3 names...\")\n",
    "        for code in unique_atc3:\n",
    "            processed += 1\n",
    "            if processed % 10 == 0:\n",
    "                elapsed = (datetime.now() - start_time).total_seconds()\n",
    "                rate = processed / elapsed if elapsed > 0 else 0\n",
    "                remaining = (total_codes - processed) / rate if rate > 0 else 0\n",
    "                print(f\"Progress: {processed}/{total_codes} ({processed/total_codes*100:.1f}%) - \"\n",
    "                      f\"Rate: {rate:.1f} codes/sec - ETA: {remaining/60:.1f} min\")\n",
    "                cache.sync()\n",
    "            \n",
    "            atc3_names[code] = get_atc_name(code, cache)\n",
    "        \n",
    "        # Process ATC2\n",
    "        print(\"\\nFetching ATC2 names...\")\n",
    "        for code in unique_atc2:\n",
    "            processed += 1\n",
    "            if processed % 10 == 0:\n",
    "                elapsed = (datetime.now() - start_time).total_seconds()\n",
    "                rate = processed / elapsed if elapsed > 0 else 0\n",
    "                remaining = (total_codes - processed) / rate if rate > 0 else 0\n",
    "                print(f\"Progress: {processed}/{total_codes} ({processed/total_codes*100:.1f}%) - \"\n",
    "                      f\"Rate: {rate:.1f} codes/sec - ETA: {remaining/60:.1f} min\")\n",
    "                cache.sync()\n",
    "            \n",
    "            atc2_names[code] = get_atc_name(code, cache)\n",
    "        \n",
    "        print(f\"\\nTotal processing time: {(datetime.now() - start_time).total_seconds()/60:.1f} minutes\")\n",
    "    \n",
    "    # Apply mappings to dataframe\n",
    "    print(\"\\nApplying names to dataframe...\")\n",
    "    df['ATC4_Name'] = df['ATC4 Class'].map(atc4_names).fillna('')\n",
    "    df['ATC3_Name'] = df['ATC3 Class'].map(atc3_names).fillna('')\n",
    "    df['ATC2_Name'] = df['ATC2 Class'].map(atc2_names).fillna('')\n",
    "    \n",
    "    # Reorder columns to group code and name together\n",
    "    column_order = ['NDC', \n",
    "                    'ATC4 Class', 'ATC4_Name',\n",
    "                    'ATC3 Class', 'ATC3_Name',\n",
    "                    'ATC2 Class', 'ATC2_Name']\n",
    "    df = df[column_order]\n",
    "    \n",
    "    # Save output\n",
    "    if output_file is None:\n",
    "        output_file = input_file.replace('.csv', '_with_names.csv')\n",
    "    \n",
    "    print(f\"\\nSaving to {output_file}...\")\n",
    "    df.to_csv(output_file, index=False)\n",
    "    \n",
    "    print(f\"\\nComplete! Output saved to: {output_file}\")\n",
    "    print(f\"Total rows: {len(df)}\")\n",
    "    print(\"\\nSample output:\")\n",
    "    print(df[['ATC4 Class', 'ATC4_Name', 'ATC3 Class', 'ATC3_Name', 'ATC2 Class', 'ATC2_Name']].head(10))\n",
    "    \n",
    "    return df\n",
    "\n",
    "if __name__ == \"__main__\":\n",
    "    # Configure paths\n",
    "    year = 2024\n",
    "    cache_path = rf\"C:\\Users\\{user}\\OneDrive - purdue.edu\\VS code\\Data\\ATC\\cache_files\\atc_names_cache\"\n",
    "    input_file = rf\"C:\\Users\\{user}\\OneDrive - purdue.edu\\VS code\\Data\\ATC\\ATC4_classes\\NDCf_{year}_ATC4_classes.csv\"\n",
    "    #\"C:\\Users\\lholguin\\OneDrive - purdue.edu\\VS code\\Data\\ATC\\ATC4_classes\"\n",
    "    output_file = rf\"C:\\Users\\{user}\\OneDrive - purdue.edu\\VS code\\Data\\ATC\\ATC4_names\\ATC4_names{year}.csv\"\n",
    "    \n",
    "    df = add_all_atc_names(input_file, output_file, cache_path)"
   ]
  },
  {
   "cell_type": "code",
   "execution_count": 10,
   "id": "b0a5724c",
   "metadata": {},
   "outputs": [
    {
     "name": "stdout",
     "output_type": "stream",
     "text": [
      "NDCs with ATC4 Class in 2024 df: 32204\n",
      "Unique NDCs 33397\n",
      "NDCs without ATC2 Class in final merged 2024 df: 1193\n",
      "\n",
      "Top 10 ATC2 Classes Nationally:\n",
      "   ATC2 Class                                  ATC2_Name  Units Reimbursed  \\\n",
      "17        B05  BLOOD SUBSTITUTES AND PERFUSION SOLUTIONS      14798.529115   \n",
      "11        A12                        MINERAL SUPPLEMENTS      10614.204078   \n",
      "5         A06                     DRUGS FOR CONSTIPATION       5293.449080   \n",
      "65        N02                                 ANALGESICS       4271.749955   \n",
      "76        R03      DRUGS FOR OBSTRUCTIVE AIRWAY DISEASES       4253.819992   \n",
      "80        S01                          OPHTHALMOLOGICALS       4234.748359   \n",
      "48        J01            ANTIBACTERIALS FOR SYSTEMIC USE       4161.327965   \n",
      "69        N06                           PSYCHOANALEPTICS       3563.983312   \n",
      "68        N05                              PSYCHOLEPTICS       2378.420265   \n",
      "66        N03                             ANTIEPILEPTICS       2334.959932   \n",
      "\n",
      "    Number of Prescriptions  \n",
      "17                15401.508  \n",
      "11                10997.188  \n",
      "5                 23129.215  \n",
      "65                72644.111  \n",
      "76               101581.046  \n",
      "80                89339.490  \n",
      "48                87590.496  \n",
      "69                80275.234  \n",
      "68                49254.740  \n",
      "66                22357.501  \n"
     ]
    }
   ],
   "source": [
    "#Analyzing the final dataframe with names\n",
    "df_names=pd.read_csv(output_file, dtype={'NDC': 'object'})\n",
    "ndc_final = df_names[df_names['NDC'].notna()]\n",
    "print(rf\"NDCs with ATC4 Class in {year} df: {ndc_final['NDC'].nunique()}\") # CHECK the totals with the past prints\n",
    "final_merged=pd.merge(df_filtered, df_names, on='NDC', how='left')\n",
    "#Scaling down units reimbursed and number of prescriptions \n",
    "final_merged['Units Reimbursed'] = final_merged['Units Reimbursed'] / 1e6\n",
    "final_merged['Number of Prescriptions'] = final_merged['Number of Prescriptions'] / 1e3\n",
    "\n",
    "#Aggregating by State, ATC3 class and name\n",
    "agg_df = final_merged.groupby(['State', 'ATC2 Class', 'ATC2_Name']).agg({\n",
    "    'Units Reimbursed': 'sum',\n",
    "    'Number of Prescriptions': 'sum'\n",
    "}).reset_index()\n",
    "\n",
    "print(\"Unique NDCs\", final_merged['NDC'].nunique())\n",
    "miss_values = final_merged[final_merged['ATC2 Class'].isna()]\n",
    "print(rf\"NDCs without ATC2 Class in final merged {year} df: {miss_values['NDC'].nunique()}\")\n",
    "#print(final_merged.columns)\n",
    "#print(final_merged.head())\n",
    "\n",
    "#Top 10 ATC2 classes nationally\n",
    "top_atc2 = agg_df.groupby(['ATC2 Class', 'ATC2_Name']).agg({\n",
    "    'Units Reimbursed': 'sum',\n",
    "    'Number of Prescriptions': 'sum'\n",
    "}).reset_index()\n",
    "top_atc2 = top_atc2.sort_values(by='Units Reimbursed', ascending=False).head(10)\n",
    "print(f\"\\nTop 10 ATC2 Classes Nationally:\\n{top_atc2}\")\n"
   ]
  },
  {
   "cell_type": "code",
   "execution_count": 11,
   "id": "a0a92563",
   "metadata": {},
   "outputs": [
    {
     "name": "stdout",
     "output_type": "stream",
     "text": [
      "ATC3 aggregated data shape: (4438, 6)\n",
      "Unique states: 52\n",
      "Unique ATC3 classes: 89\n",
      "Years available: [np.int64(2024)]\n"
     ]
    },
    {
     "data": {
      "application/vnd.jupyter.widget-view+json": {
       "model_id": "15ac7f746f874affae5752c2ae4f22a2",
       "version_major": 2,
       "version_minor": 0
      },
      "text/plain": [
       "interactive(children=(Dropdown(description='Year:', options=(2024,), value=2024), Dropdown(description='State:…"
      ]
     },
     "metadata": {},
     "output_type": "display_data"
    },
    {
     "data": {
      "application/vnd.plotly.v1+json": {
       "config": {
        "plotlyServerURL": "https://plot.ly"
       },
       "data": [
        {
         "marker": {
          "color": "lightblue"
         },
         "name": "Units Reimbursed",
         "orientation": "h",
         "text": {
          "bdata": "AAAAAEDnzECamZmZGbvEQGZmZmZmrbRAMzMzM7OvsEDNzMzMzJ2wQDMzMzOzirBAzczMzExBsEAAAAAAANirQM3MzMzMlKJAAAAAAAA+okCamZmZmeOhQJqZmZmZuaFAMzMzMzPLnkBmZmZmZkKeQAAAAAAAJJ5A",
          "dtype": "f8"
         },
         "textposition": "auto",
         "type": "bar",
         "x": {
          "bdata": "JTUNukPnzECzkj0fGrvEQL6l7fZyrbRAX1sU/b+vsEADIwTr0Z2wQEmGd5S/irBAua2I9VNBsEADCaZ099erQHLo+izXlKJAspgsfOs9okBVJvpRreOhQKaYDJKjuaFAnxtqeUHLnkCBp684mUKeQKGOLDggJJ5A",
          "dtype": "f8"
         },
         "xaxis": "x",
         "y": [
          "BLOOD SUBSTITUTES AND PERFUSION SOLUTIONS",
          "MINERAL SUPPLEMENTS",
          "DRUGS FOR CONSTIPATION",
          "ANALGESICS",
          "DRUGS FOR OBSTRUCTIVE AIRWAY DISEASES",
          "OPHTHALMOLOGICALS",
          "ANTIBACTERIALS FOR SYSTEMIC USE",
          "PSYCHOANALEPTICS",
          "PSYCHOLEPTICS",
          "ANTIEPILEPTICS",
          "ANTIHISTAMINES FOR SYSTEMIC USE",
          "CORTICOSTEROIDS, DERMATOLOGICAL PREPARATIONS",
          "STOMATOLOGICAL PREPARATIONS",
          "NASAL PREPARATIONS",
          "THROAT PREPARATIONS"
         ],
         "yaxis": "y"
        },
        {
         "marker": {
          "color": "lightcoral"
         },
         "name": "Number of Prescriptions",
         "orientation": "h",
         "text": {
          "bdata": "AAAAANDM+EAAAAAAuM/1QAAAAABoYvVAMzMzMzOZ80CamZmZQbzxQJqZmZm5uu5AZmZmZtYM6EBmZmZm1ufmQDMzMzNTi+FAZmZmZubv3kDNzMzMTJbWQAAAAABg1dVAZmZmZqaw00AAAAAAwBTOQJqZmZmZesVA",
          "dtype": "f8"
         },
         "textposition": "auto",
         "type": "bar",
         "x": {
          "bdata": "+n5qvNDM+EBxPQrXt8/1QC2yne9nYvVAtMh2vjOZ80Ce76fGQbzxQAisHFq4uu5A4XoUrtcM6EAzMzMz1+fmQCuHFtlSi+FAke18P+Xv3kApXI/CTZbWQNNNYhBg1dVA+n5qvKSw00Av3SQGwRTOQNNNYhCYesVA",
          "dtype": "f8"
         },
         "xaxis": "x2",
         "y": [
          "DRUGS FOR OBSTRUCTIVE AIRWAY DISEASES",
          "OPHTHALMOLOGICALS",
          "ANTIBACTERIALS FOR SYSTEMIC USE",
          "PSYCHOANALEPTICS",
          "ANALGESICS",
          "CORTICOSTEROIDS, DERMATOLOGICAL PREPARATIONS",
          "PSYCHOLEPTICS",
          "NASAL PREPARATIONS",
          "STOMATOLOGICAL PREPARATIONS",
          "ANTIHISTAMINES FOR SYSTEMIC USE",
          "DRUGS FOR CONSTIPATION",
          "ANTIEPILEPTICS",
          "THROAT PREPARATIONS",
          "BLOOD SUBSTITUTES AND PERFUSION SOLUTIONS",
          "MINERAL SUPPLEMENTS"
         ],
         "yaxis": "y2"
        }
       ],
       "layout": {
        "annotations": [
         {
          "font": {
           "size": 16
          },
          "showarrow": false,
          "text": "Top 15 ATC2 Classes by Units Reimbursed Nationally (2024)",
          "x": 0.5,
          "xanchor": "center",
          "xref": "paper",
          "y": 1,
          "yanchor": "bottom",
          "yref": "paper"
         },
         {
          "font": {
           "size": 16
          },
          "showarrow": false,
          "text": "Top 15 ATC2 Classes by Number of Prescriptions Nationally (2024)",
          "x": 0.5,
          "xanchor": "center",
          "xref": "paper",
          "y": 0.45,
          "yanchor": "bottom",
          "yref": "paper"
         }
        ],
        "height": 800,
        "showlegend": false,
        "template": {
         "data": {
          "bar": [
           {
            "error_x": {
             "color": "#2a3f5f"
            },
            "error_y": {
             "color": "#2a3f5f"
            },
            "marker": {
             "line": {
              "color": "#E5ECF6",
              "width": 0.5
             },
             "pattern": {
              "fillmode": "overlay",
              "size": 10,
              "solidity": 0.2
             }
            },
            "type": "bar"
           }
          ],
          "barpolar": [
           {
            "marker": {
             "line": {
              "color": "#E5ECF6",
              "width": 0.5
             },
             "pattern": {
              "fillmode": "overlay",
              "size": 10,
              "solidity": 0.2
             }
            },
            "type": "barpolar"
           }
          ],
          "carpet": [
           {
            "aaxis": {
             "endlinecolor": "#2a3f5f",
             "gridcolor": "white",
             "linecolor": "white",
             "minorgridcolor": "white",
             "startlinecolor": "#2a3f5f"
            },
            "baxis": {
             "endlinecolor": "#2a3f5f",
             "gridcolor": "white",
             "linecolor": "white",
             "minorgridcolor": "white",
             "startlinecolor": "#2a3f5f"
            },
            "type": "carpet"
           }
          ],
          "choropleth": [
           {
            "colorbar": {
             "outlinewidth": 0,
             "ticks": ""
            },
            "type": "choropleth"
           }
          ],
          "contour": [
           {
            "colorbar": {
             "outlinewidth": 0,
             "ticks": ""
            },
            "colorscale": [
             [
              0,
              "#0d0887"
             ],
             [
              0.1111111111111111,
              "#46039f"
             ],
             [
              0.2222222222222222,
              "#7201a8"
             ],
             [
              0.3333333333333333,
              "#9c179e"
             ],
             [
              0.4444444444444444,
              "#bd3786"
             ],
             [
              0.5555555555555556,
              "#d8576b"
             ],
             [
              0.6666666666666666,
              "#ed7953"
             ],
             [
              0.7777777777777778,
              "#fb9f3a"
             ],
             [
              0.8888888888888888,
              "#fdca26"
             ],
             [
              1,
              "#f0f921"
             ]
            ],
            "type": "contour"
           }
          ],
          "contourcarpet": [
           {
            "colorbar": {
             "outlinewidth": 0,
             "ticks": ""
            },
            "type": "contourcarpet"
           }
          ],
          "heatmap": [
           {
            "colorbar": {
             "outlinewidth": 0,
             "ticks": ""
            },
            "colorscale": [
             [
              0,
              "#0d0887"
             ],
             [
              0.1111111111111111,
              "#46039f"
             ],
             [
              0.2222222222222222,
              "#7201a8"
             ],
             [
              0.3333333333333333,
              "#9c179e"
             ],
             [
              0.4444444444444444,
              "#bd3786"
             ],
             [
              0.5555555555555556,
              "#d8576b"
             ],
             [
              0.6666666666666666,
              "#ed7953"
             ],
             [
              0.7777777777777778,
              "#fb9f3a"
             ],
             [
              0.8888888888888888,
              "#fdca26"
             ],
             [
              1,
              "#f0f921"
             ]
            ],
            "type": "heatmap"
           }
          ],
          "histogram": [
           {
            "marker": {
             "pattern": {
              "fillmode": "overlay",
              "size": 10,
              "solidity": 0.2
             }
            },
            "type": "histogram"
           }
          ],
          "histogram2d": [
           {
            "colorbar": {
             "outlinewidth": 0,
             "ticks": ""
            },
            "colorscale": [
             [
              0,
              "#0d0887"
             ],
             [
              0.1111111111111111,
              "#46039f"
             ],
             [
              0.2222222222222222,
              "#7201a8"
             ],
             [
              0.3333333333333333,
              "#9c179e"
             ],
             [
              0.4444444444444444,
              "#bd3786"
             ],
             [
              0.5555555555555556,
              "#d8576b"
             ],
             [
              0.6666666666666666,
              "#ed7953"
             ],
             [
              0.7777777777777778,
              "#fb9f3a"
             ],
             [
              0.8888888888888888,
              "#fdca26"
             ],
             [
              1,
              "#f0f921"
             ]
            ],
            "type": "histogram2d"
           }
          ],
          "histogram2dcontour": [
           {
            "colorbar": {
             "outlinewidth": 0,
             "ticks": ""
            },
            "colorscale": [
             [
              0,
              "#0d0887"
             ],
             [
              0.1111111111111111,
              "#46039f"
             ],
             [
              0.2222222222222222,
              "#7201a8"
             ],
             [
              0.3333333333333333,
              "#9c179e"
             ],
             [
              0.4444444444444444,
              "#bd3786"
             ],
             [
              0.5555555555555556,
              "#d8576b"
             ],
             [
              0.6666666666666666,
              "#ed7953"
             ],
             [
              0.7777777777777778,
              "#fb9f3a"
             ],
             [
              0.8888888888888888,
              "#fdca26"
             ],
             [
              1,
              "#f0f921"
             ]
            ],
            "type": "histogram2dcontour"
           }
          ],
          "mesh3d": [
           {
            "colorbar": {
             "outlinewidth": 0,
             "ticks": ""
            },
            "type": "mesh3d"
           }
          ],
          "parcoords": [
           {
            "line": {
             "colorbar": {
              "outlinewidth": 0,
              "ticks": ""
             }
            },
            "type": "parcoords"
           }
          ],
          "pie": [
           {
            "automargin": true,
            "type": "pie"
           }
          ],
          "scatter": [
           {
            "fillpattern": {
             "fillmode": "overlay",
             "size": 10,
             "solidity": 0.2
            },
            "type": "scatter"
           }
          ],
          "scatter3d": [
           {
            "line": {
             "colorbar": {
              "outlinewidth": 0,
              "ticks": ""
             }
            },
            "marker": {
             "colorbar": {
              "outlinewidth": 0,
              "ticks": ""
             }
            },
            "type": "scatter3d"
           }
          ],
          "scattercarpet": [
           {
            "marker": {
             "colorbar": {
              "outlinewidth": 0,
              "ticks": ""
             }
            },
            "type": "scattercarpet"
           }
          ],
          "scattergeo": [
           {
            "marker": {
             "colorbar": {
              "outlinewidth": 0,
              "ticks": ""
             }
            },
            "type": "scattergeo"
           }
          ],
          "scattergl": [
           {
            "marker": {
             "colorbar": {
              "outlinewidth": 0,
              "ticks": ""
             }
            },
            "type": "scattergl"
           }
          ],
          "scattermap": [
           {
            "marker": {
             "colorbar": {
              "outlinewidth": 0,
              "ticks": ""
             }
            },
            "type": "scattermap"
           }
          ],
          "scattermapbox": [
           {
            "marker": {
             "colorbar": {
              "outlinewidth": 0,
              "ticks": ""
             }
            },
            "type": "scattermapbox"
           }
          ],
          "scatterpolar": [
           {
            "marker": {
             "colorbar": {
              "outlinewidth": 0,
              "ticks": ""
             }
            },
            "type": "scatterpolar"
           }
          ],
          "scatterpolargl": [
           {
            "marker": {
             "colorbar": {
              "outlinewidth": 0,
              "ticks": ""
             }
            },
            "type": "scatterpolargl"
           }
          ],
          "scatterternary": [
           {
            "marker": {
             "colorbar": {
              "outlinewidth": 0,
              "ticks": ""
             }
            },
            "type": "scatterternary"
           }
          ],
          "surface": [
           {
            "colorbar": {
             "outlinewidth": 0,
             "ticks": ""
            },
            "colorscale": [
             [
              0,
              "#0d0887"
             ],
             [
              0.1111111111111111,
              "#46039f"
             ],
             [
              0.2222222222222222,
              "#7201a8"
             ],
             [
              0.3333333333333333,
              "#9c179e"
             ],
             [
              0.4444444444444444,
              "#bd3786"
             ],
             [
              0.5555555555555556,
              "#d8576b"
             ],
             [
              0.6666666666666666,
              "#ed7953"
             ],
             [
              0.7777777777777778,
              "#fb9f3a"
             ],
             [
              0.8888888888888888,
              "#fdca26"
             ],
             [
              1,
              "#f0f921"
             ]
            ],
            "type": "surface"
           }
          ],
          "table": [
           {
            "cells": {
             "fill": {
              "color": "#EBF0F8"
             },
             "line": {
              "color": "white"
             }
            },
            "header": {
             "fill": {
              "color": "#C8D4E3"
             },
             "line": {
              "color": "white"
             }
            },
            "type": "table"
           }
          ]
         },
         "layout": {
          "annotationdefaults": {
           "arrowcolor": "#2a3f5f",
           "arrowhead": 0,
           "arrowwidth": 1
          },
          "autotypenumbers": "strict",
          "coloraxis": {
           "colorbar": {
            "outlinewidth": 0,
            "ticks": ""
           }
          },
          "colorscale": {
           "diverging": [
            [
             0,
             "#8e0152"
            ],
            [
             0.1,
             "#c51b7d"
            ],
            [
             0.2,
             "#de77ae"
            ],
            [
             0.3,
             "#f1b6da"
            ],
            [
             0.4,
             "#fde0ef"
            ],
            [
             0.5,
             "#f7f7f7"
            ],
            [
             0.6,
             "#e6f5d0"
            ],
            [
             0.7,
             "#b8e186"
            ],
            [
             0.8,
             "#7fbc41"
            ],
            [
             0.9,
             "#4d9221"
            ],
            [
             1,
             "#276419"
            ]
           ],
           "sequential": [
            [
             0,
             "#0d0887"
            ],
            [
             0.1111111111111111,
             "#46039f"
            ],
            [
             0.2222222222222222,
             "#7201a8"
            ],
            [
             0.3333333333333333,
             "#9c179e"
            ],
            [
             0.4444444444444444,
             "#bd3786"
            ],
            [
             0.5555555555555556,
             "#d8576b"
            ],
            [
             0.6666666666666666,
             "#ed7953"
            ],
            [
             0.7777777777777778,
             "#fb9f3a"
            ],
            [
             0.8888888888888888,
             "#fdca26"
            ],
            [
             1,
             "#f0f921"
            ]
           ],
           "sequentialminus": [
            [
             0,
             "#0d0887"
            ],
            [
             0.1111111111111111,
             "#46039f"
            ],
            [
             0.2222222222222222,
             "#7201a8"
            ],
            [
             0.3333333333333333,
             "#9c179e"
            ],
            [
             0.4444444444444444,
             "#bd3786"
            ],
            [
             0.5555555555555556,
             "#d8576b"
            ],
            [
             0.6666666666666666,
             "#ed7953"
            ],
            [
             0.7777777777777778,
             "#fb9f3a"
            ],
            [
             0.8888888888888888,
             "#fdca26"
            ],
            [
             1,
             "#f0f921"
            ]
           ]
          },
          "colorway": [
           "#636efa",
           "#EF553B",
           "#00cc96",
           "#ab63fa",
           "#FFA15A",
           "#19d3f3",
           "#FF6692",
           "#B6E880",
           "#FF97FF",
           "#FECB52"
          ],
          "font": {
           "color": "#2a3f5f"
          },
          "geo": {
           "bgcolor": "white",
           "lakecolor": "white",
           "landcolor": "#E5ECF6",
           "showlakes": true,
           "showland": true,
           "subunitcolor": "white"
          },
          "hoverlabel": {
           "align": "left"
          },
          "hovermode": "closest",
          "mapbox": {
           "style": "light"
          },
          "paper_bgcolor": "white",
          "plot_bgcolor": "#E5ECF6",
          "polar": {
           "angularaxis": {
            "gridcolor": "white",
            "linecolor": "white",
            "ticks": ""
           },
           "bgcolor": "#E5ECF6",
           "radialaxis": {
            "gridcolor": "white",
            "linecolor": "white",
            "ticks": ""
           }
          },
          "scene": {
           "xaxis": {
            "backgroundcolor": "#E5ECF6",
            "gridcolor": "white",
            "gridwidth": 2,
            "linecolor": "white",
            "showbackground": true,
            "ticks": "",
            "zerolinecolor": "white"
           },
           "yaxis": {
            "backgroundcolor": "#E5ECF6",
            "gridcolor": "white",
            "gridwidth": 2,
            "linecolor": "white",
            "showbackground": true,
            "ticks": "",
            "zerolinecolor": "white"
           },
           "zaxis": {
            "backgroundcolor": "#E5ECF6",
            "gridcolor": "white",
            "gridwidth": 2,
            "linecolor": "white",
            "showbackground": true,
            "ticks": "",
            "zerolinecolor": "white"
           }
          },
          "shapedefaults": {
           "line": {
            "color": "#2a3f5f"
           }
          },
          "ternary": {
           "aaxis": {
            "gridcolor": "white",
            "linecolor": "white",
            "ticks": ""
           },
           "baxis": {
            "gridcolor": "white",
            "linecolor": "white",
            "ticks": ""
           },
           "bgcolor": "#E5ECF6",
           "caxis": {
            "gridcolor": "white",
            "linecolor": "white",
            "ticks": ""
           }
          },
          "title": {
           "x": 0.05
          },
          "xaxis": {
           "automargin": true,
           "gridcolor": "white",
           "linecolor": "white",
           "ticks": "",
           "title": {
            "standoff": 15
           },
           "zerolinecolor": "white",
           "zerolinewidth": 2
          },
          "yaxis": {
           "automargin": true,
           "gridcolor": "white",
           "linecolor": "white",
           "ticks": "",
           "title": {
            "standoff": 15
           },
           "zerolinecolor": "white",
           "zerolinewidth": 2
          }
         }
        },
        "title": {
         "text": "ATC2 Drug Classes Analysis Nationally (2024)",
         "x": 0.5
        },
        "xaxis": {
         "anchor": "y",
         "domain": [
          0,
          1
         ],
         "title": {
          "text": "Units Reimbursed (Millions)"
         }
        },
        "xaxis2": {
         "anchor": "y2",
         "domain": [
          0,
          1
         ],
         "title": {
          "text": "Number of Prescriptions (Thousands)"
         }
        },
        "yaxis": {
         "anchor": "x",
         "autorange": "reversed",
         "domain": [
          0.55,
          1
         ]
        },
        "yaxis2": {
         "anchor": "x2",
         "autorange": "reversed",
         "domain": [
          0,
          0.45
         ]
        }
       }
      }
     },
     "metadata": {},
     "output_type": "display_data"
    },
    {
     "data": {
      "text/plain": [
       "<function __main__.plot_atc2_analysis(year=2024, state='ALL', top_n=15, metric='Units Reimbursed')>"
      ]
     },
     "execution_count": 11,
     "metadata": {},
     "output_type": "execute_result"
    }
   ],
   "source": [
    "\n",
    "# Create ATC3 aggregation\n",
    "agg_atc2 = final_merged.groupby(['State', 'ATC2 Class', 'ATC2_Name', 'Year']).agg({\n",
    "    'Units Reimbursed': 'sum',\n",
    "    'Number of Prescriptions': 'sum'\n",
    "}).reset_index()\n",
    "\n",
    "print(f\"ATC3 aggregated data shape: {agg_atc2.shape}\")\n",
    "print(f\"Unique states: {agg_atc2['State'].nunique()}\")\n",
    "print(f\"Unique ATC3 classes: {agg_atc2['ATC2 Class'].nunique()}\")\n",
    "print(f\"Years available: {sorted(agg_atc2['Year'].unique())}\")\n",
    "\n",
    "# Interactive plotting function\n",
    "def plot_atc2_analysis(year=2024, state='ALL', top_n=15, metric='Units Reimbursed'):\n",
    "\n",
    "    # Filter data by year first\n",
    "    year_data = agg_atc2[agg_atc2['Year'] == year].copy()\n",
    "    \n",
    "    # Filter data by state\n",
    "    if state == 'ALL':\n",
    "        plot_data = year_data.groupby(['ATC2 Class', 'ATC2_Name']).agg({\n",
    "            'Units Reimbursed': 'sum',\n",
    "            'Number of Prescriptions': 'sum'\n",
    "        }).reset_index()\n",
    "        title_suffix = f\"Nationally ({year})\"\n",
    "    else:\n",
    "        plot_data = year_data[year_data['State'] == state].copy()\n",
    "        title_suffix = f\"in {state} ({year})\"\n",
    "    \n",
    "    # Sort by selected metric and get top N\n",
    "    plot_data = plot_data.sort_values(metric, ascending=False).head(top_n)\n",
    "    \n",
    "    # Create subplot figure\n",
    "    fig = make_subplots(\n",
    "        rows=2, cols=1,\n",
    "        subplot_titles=(f'Top {top_n} ATC2 Classes by Units Reimbursed {title_suffix}',\n",
    "                       f'Top {top_n} ATC2 Classes by Number of Prescriptions {title_suffix}'),\n",
    "        vertical_spacing=0.1\n",
    "    )\n",
    "    \n",
    "    # Units Reimbursed plot\n",
    "    fig.add_trace(\n",
    "        go.Bar(\n",
    "            x=plot_data['Units Reimbursed'],\n",
    "            y=plot_data['ATC2_Name'],\n",
    "            orientation='h',\n",
    "            name='Units Reimbursed',\n",
    "            text=plot_data['Units Reimbursed'].round(1),\n",
    "            textposition='auto',\n",
    "            marker_color='lightblue'\n",
    "        ),\n",
    "        row=1, col=1\n",
    "    )\n",
    "    \n",
    "    # Re-sort for prescriptions\n",
    "    plot_data_presc = plot_data.sort_values('Number of Prescriptions', ascending=False).head(top_n)\n",
    "    \n",
    "    # Number of Prescriptions plot\n",
    "    fig.add_trace(\n",
    "        go.Bar(\n",
    "            x=plot_data_presc['Number of Prescriptions'],\n",
    "            y=plot_data_presc['ATC2_Name'],\n",
    "            orientation='h',\n",
    "            name='Number of Prescriptions',\n",
    "            text=plot_data_presc['Number of Prescriptions'].round(1),\n",
    "            textposition='auto',\n",
    "            marker_color='lightcoral'\n",
    "        ),\n",
    "        row=2, col=1\n",
    "    )\n",
    "    \n",
    "    # Update layout\n",
    "    fig.update_layout(\n",
    "        height=800,\n",
    "        showlegend=False,\n",
    "        title_text=f\"ATC2 Drug Classes Analysis {title_suffix}\",\n",
    "        title_x=0.5\n",
    "    )\n",
    "    \n",
    "    # Update x-axes\n",
    "    fig.update_xaxes(title_text=\"Units Reimbursed (Millions)\", row=1, col=1)\n",
    "    fig.update_xaxes(title_text=\"Number of Prescriptions (Thousands)\", row=2, col=1)\n",
    "    \n",
    "    # Update y-axes to show full names\n",
    "    fig.update_yaxes(autorange=\"reversed\", row=1, col=1)\n",
    "    fig.update_yaxes(autorange=\"reversed\", row=2, col=1)\n",
    "    \n",
    "    fig.show()\n",
    "    \n",
    "    # Print summary statistics\n",
    "    print(f\"\\nSummary for {title_suffix}:\")\n",
    "    print(f\"Total ATC2 classes: {len(plot_data)}\")\n",
    "    print(f\"Total Units Reimbursed: {plot_data['Units Reimbursed'].sum():.1f} million\")\n",
    "    print(f\"Total Prescriptions: {plot_data['Number of Prescriptions'].sum():.1f} thousand\")\n",
    "\n",
    "# Create widget for interactive plotting\n",
    "states_list = ['ALL'] + sorted(agg_atc2['State'].unique().tolist())\n",
    "years_list = sorted(agg_atc2['Year'].unique().tolist())\n",
    "\n",
    "# Interactive widget\n",
    "interact(plot_atc2_analysis,\n",
    "         year=Dropdown(options=years_list, value=2024, description='Year:'),\n",
    "         state=Dropdown(options=states_list, value='ALL', description='State:'),\n",
    "         top_n=Dropdown(options=[10, 15, 20, 25], value=15, description='Top N:'),\n",
    "         metric=Dropdown(options=['Units Reimbursed', 'Number of Prescriptions'], \n",
    "                        value='Units Reimbursed', description='Sort by:'))"
   ]
  },
  {
   "cell_type": "code",
   "execution_count": 12,
   "id": "fbf65024",
   "metadata": {},
   "outputs": [
    {
     "name": "stdout",
     "output_type": "stream",
     "text": [
      "ATC3 aggregated data shape: (9895, 6)\n",
      "Unique states: 52\n",
      "Unique ATC3 classes: 212\n",
      "Years available: [np.int64(2024)]\n"
     ]
    },
    {
     "data": {
      "application/vnd.jupyter.widget-view+json": {
       "model_id": "3ebb6b0eb67f4f68bf2ccefe2bfc022b",
       "version_major": 2,
       "version_minor": 0
      },
      "text/plain": [
       "interactive(children=(Dropdown(description='Year:', options=(2024,), value=2024), Dropdown(description='State:…"
      ]
     },
     "metadata": {},
     "output_type": "display_data"
    },
    {
     "data": {
      "application/vnd.plotly.v1+json": {
       "config": {
        "plotlyServerURL": "https://plot.ly"
       },
       "data": [
        {
         "marker": {
          "color": "lightblue"
         },
         "name": "Units Reimbursed",
         "orientation": "h",
         "text": {
          "bdata": "MzMzMzPHu0BmZmZmZuq4QAAAAAAAFrhAZmZmZmattEAAAAAAACCrQAAAAAAAwKVAZmZmZmbApEAzMzMzM3GiQAAAAAAAPqJAmpmZmZnjoUAzMzMzM8ueQAAAAAAAJJ5AZmZmZmbqnUAzMzMzM7+aQAAAAAAAmplA",
          "dtype": "f8"
         },
         "textposition": "auto",
         "type": "bar",
         "x": {
          "bdata": "bZOeKjDHu0BvedDfXeq4QOUx9moCFrhAvqXt9nKttECCFYRLCCCrQCRBGy0NwKVAK1ud/GzApEC5xz8kQ3GiQLKYLHzrPaJAVSb6Ua3joUCfG2p5QcueQKGOLDggJJ5AKpwFIzTqnUCmgI44V7+aQJc5Ys/QmZlA",
          "dtype": "f8"
         },
         "xaxis": "x",
         "y": [
          "IRRIGATING SOLUTIONS",
          "I.V. SOLUTION ADDITIVES",
          "OTHER MINERAL SUPPLEMENTS",
          "DRUGS FOR CONSTIPATION",
          "POTASSIUM",
          "OTHER ANALGESICS AND ANTIPYRETICS",
          "ANTIDEPRESSANTS",
          "BETA-LACTAM ANTIBACTERIALS, PENICILLINS",
          "ANTIEPILEPTICS",
          "ANTIHISTAMINES FOR SYSTEMIC USE",
          "STOMATOLOGICAL PREPARATIONS",
          "THROAT PREPARATIONS",
          "ANTIINFLAMMATORY AND ANTIRHEUMATIC PRODUCTS, NON-STEROIDS",
          "TOPICAL PRODUCTS FOR JOINT AND MUSCULAR PAIN",
          "ADRENERGICS, INHALANTS"
         ],
         "yaxis": "y"
        },
        {
         "marker": {
          "color": "lightcoral"
         },
         "name": "Number of Prescriptions",
         "orientation": "h",
         "text": {
          "bdata": "zczMzOzr60DNzMzMDGviQGZmZmYG2OFAMzMzM1OL4UBmZmZmJmjfQGZmZmbm795AzczMzIyt3EDNzMzMTJbWQAAAAABg1dVAMzMzMxMx1UBmZmZmprDTQDMzMzMzCbxAMzMzMzPtu0DNzMzMzIi4QJqZmZmZHaxA",
          "dtype": "f8"
         },
         "textposition": "auto",
         "type": "bar",
         "x": {
          "bdata": "YhBYOezr60BmZmZmDmviQL6fGi8F2OFAK4cW2VKL4UApXI/CJWjfQJHtfD/l795AuB6F64mt3EApXI/CTZbWQNNNYhBg1dVAMzMzMxMx1UD6fmq8pLDTQBWuR+E6CbxAaJHtfD/tu0AfhetR2Ii4QF66SQyCHaxA",
          "dtype": "f8"
         },
         "xaxis": "x2",
         "y": [
          "ANTIDEPRESSANTS",
          "ADRENERGICS, INHALANTS",
          "OTHER ANALGESICS AND ANTIPYRETICS",
          "STOMATOLOGICAL PREPARATIONS",
          "BETA-LACTAM ANTIBACTERIALS, PENICILLINS",
          "ANTIHISTAMINES FOR SYSTEMIC USE",
          "ANTIINFLAMMATORY AND ANTIRHEUMATIC PRODUCTS, NON-STEROIDS",
          "DRUGS FOR CONSTIPATION",
          "ANTIEPILEPTICS",
          "TOPICAL PRODUCTS FOR JOINT AND MUSCULAR PAIN",
          "THROAT PREPARATIONS",
          "I.V. SOLUTION ADDITIVES",
          "IRRIGATING SOLUTIONS",
          "OTHER MINERAL SUPPLEMENTS",
          "POTASSIUM"
         ],
         "yaxis": "y2"
        }
       ],
       "layout": {
        "annotations": [
         {
          "font": {
           "size": 16
          },
          "showarrow": false,
          "text": "Top 15 ATC3 Classes by Units Reimbursed Nationally (2024)",
          "x": 0.5,
          "xanchor": "center",
          "xref": "paper",
          "y": 1,
          "yanchor": "bottom",
          "yref": "paper"
         },
         {
          "font": {
           "size": 16
          },
          "showarrow": false,
          "text": "Top 15 ATC3 Classes by Number of Prescriptions Nationally (2024)",
          "x": 0.5,
          "xanchor": "center",
          "xref": "paper",
          "y": 0.45,
          "yanchor": "bottom",
          "yref": "paper"
         }
        ],
        "height": 800,
        "showlegend": false,
        "template": {
         "data": {
          "bar": [
           {
            "error_x": {
             "color": "#2a3f5f"
            },
            "error_y": {
             "color": "#2a3f5f"
            },
            "marker": {
             "line": {
              "color": "#E5ECF6",
              "width": 0.5
             },
             "pattern": {
              "fillmode": "overlay",
              "size": 10,
              "solidity": 0.2
             }
            },
            "type": "bar"
           }
          ],
          "barpolar": [
           {
            "marker": {
             "line": {
              "color": "#E5ECF6",
              "width": 0.5
             },
             "pattern": {
              "fillmode": "overlay",
              "size": 10,
              "solidity": 0.2
             }
            },
            "type": "barpolar"
           }
          ],
          "carpet": [
           {
            "aaxis": {
             "endlinecolor": "#2a3f5f",
             "gridcolor": "white",
             "linecolor": "white",
             "minorgridcolor": "white",
             "startlinecolor": "#2a3f5f"
            },
            "baxis": {
             "endlinecolor": "#2a3f5f",
             "gridcolor": "white",
             "linecolor": "white",
             "minorgridcolor": "white",
             "startlinecolor": "#2a3f5f"
            },
            "type": "carpet"
           }
          ],
          "choropleth": [
           {
            "colorbar": {
             "outlinewidth": 0,
             "ticks": ""
            },
            "type": "choropleth"
           }
          ],
          "contour": [
           {
            "colorbar": {
             "outlinewidth": 0,
             "ticks": ""
            },
            "colorscale": [
             [
              0,
              "#0d0887"
             ],
             [
              0.1111111111111111,
              "#46039f"
             ],
             [
              0.2222222222222222,
              "#7201a8"
             ],
             [
              0.3333333333333333,
              "#9c179e"
             ],
             [
              0.4444444444444444,
              "#bd3786"
             ],
             [
              0.5555555555555556,
              "#d8576b"
             ],
             [
              0.6666666666666666,
              "#ed7953"
             ],
             [
              0.7777777777777778,
              "#fb9f3a"
             ],
             [
              0.8888888888888888,
              "#fdca26"
             ],
             [
              1,
              "#f0f921"
             ]
            ],
            "type": "contour"
           }
          ],
          "contourcarpet": [
           {
            "colorbar": {
             "outlinewidth": 0,
             "ticks": ""
            },
            "type": "contourcarpet"
           }
          ],
          "heatmap": [
           {
            "colorbar": {
             "outlinewidth": 0,
             "ticks": ""
            },
            "colorscale": [
             [
              0,
              "#0d0887"
             ],
             [
              0.1111111111111111,
              "#46039f"
             ],
             [
              0.2222222222222222,
              "#7201a8"
             ],
             [
              0.3333333333333333,
              "#9c179e"
             ],
             [
              0.4444444444444444,
              "#bd3786"
             ],
             [
              0.5555555555555556,
              "#d8576b"
             ],
             [
              0.6666666666666666,
              "#ed7953"
             ],
             [
              0.7777777777777778,
              "#fb9f3a"
             ],
             [
              0.8888888888888888,
              "#fdca26"
             ],
             [
              1,
              "#f0f921"
             ]
            ],
            "type": "heatmap"
           }
          ],
          "histogram": [
           {
            "marker": {
             "pattern": {
              "fillmode": "overlay",
              "size": 10,
              "solidity": 0.2
             }
            },
            "type": "histogram"
           }
          ],
          "histogram2d": [
           {
            "colorbar": {
             "outlinewidth": 0,
             "ticks": ""
            },
            "colorscale": [
             [
              0,
              "#0d0887"
             ],
             [
              0.1111111111111111,
              "#46039f"
             ],
             [
              0.2222222222222222,
              "#7201a8"
             ],
             [
              0.3333333333333333,
              "#9c179e"
             ],
             [
              0.4444444444444444,
              "#bd3786"
             ],
             [
              0.5555555555555556,
              "#d8576b"
             ],
             [
              0.6666666666666666,
              "#ed7953"
             ],
             [
              0.7777777777777778,
              "#fb9f3a"
             ],
             [
              0.8888888888888888,
              "#fdca26"
             ],
             [
              1,
              "#f0f921"
             ]
            ],
            "type": "histogram2d"
           }
          ],
          "histogram2dcontour": [
           {
            "colorbar": {
             "outlinewidth": 0,
             "ticks": ""
            },
            "colorscale": [
             [
              0,
              "#0d0887"
             ],
             [
              0.1111111111111111,
              "#46039f"
             ],
             [
              0.2222222222222222,
              "#7201a8"
             ],
             [
              0.3333333333333333,
              "#9c179e"
             ],
             [
              0.4444444444444444,
              "#bd3786"
             ],
             [
              0.5555555555555556,
              "#d8576b"
             ],
             [
              0.6666666666666666,
              "#ed7953"
             ],
             [
              0.7777777777777778,
              "#fb9f3a"
             ],
             [
              0.8888888888888888,
              "#fdca26"
             ],
             [
              1,
              "#f0f921"
             ]
            ],
            "type": "histogram2dcontour"
           }
          ],
          "mesh3d": [
           {
            "colorbar": {
             "outlinewidth": 0,
             "ticks": ""
            },
            "type": "mesh3d"
           }
          ],
          "parcoords": [
           {
            "line": {
             "colorbar": {
              "outlinewidth": 0,
              "ticks": ""
             }
            },
            "type": "parcoords"
           }
          ],
          "pie": [
           {
            "automargin": true,
            "type": "pie"
           }
          ],
          "scatter": [
           {
            "fillpattern": {
             "fillmode": "overlay",
             "size": 10,
             "solidity": 0.2
            },
            "type": "scatter"
           }
          ],
          "scatter3d": [
           {
            "line": {
             "colorbar": {
              "outlinewidth": 0,
              "ticks": ""
             }
            },
            "marker": {
             "colorbar": {
              "outlinewidth": 0,
              "ticks": ""
             }
            },
            "type": "scatter3d"
           }
          ],
          "scattercarpet": [
           {
            "marker": {
             "colorbar": {
              "outlinewidth": 0,
              "ticks": ""
             }
            },
            "type": "scattercarpet"
           }
          ],
          "scattergeo": [
           {
            "marker": {
             "colorbar": {
              "outlinewidth": 0,
              "ticks": ""
             }
            },
            "type": "scattergeo"
           }
          ],
          "scattergl": [
           {
            "marker": {
             "colorbar": {
              "outlinewidth": 0,
              "ticks": ""
             }
            },
            "type": "scattergl"
           }
          ],
          "scattermap": [
           {
            "marker": {
             "colorbar": {
              "outlinewidth": 0,
              "ticks": ""
             }
            },
            "type": "scattermap"
           }
          ],
          "scattermapbox": [
           {
            "marker": {
             "colorbar": {
              "outlinewidth": 0,
              "ticks": ""
             }
            },
            "type": "scattermapbox"
           }
          ],
          "scatterpolar": [
           {
            "marker": {
             "colorbar": {
              "outlinewidth": 0,
              "ticks": ""
             }
            },
            "type": "scatterpolar"
           }
          ],
          "scatterpolargl": [
           {
            "marker": {
             "colorbar": {
              "outlinewidth": 0,
              "ticks": ""
             }
            },
            "type": "scatterpolargl"
           }
          ],
          "scatterternary": [
           {
            "marker": {
             "colorbar": {
              "outlinewidth": 0,
              "ticks": ""
             }
            },
            "type": "scatterternary"
           }
          ],
          "surface": [
           {
            "colorbar": {
             "outlinewidth": 0,
             "ticks": ""
            },
            "colorscale": [
             [
              0,
              "#0d0887"
             ],
             [
              0.1111111111111111,
              "#46039f"
             ],
             [
              0.2222222222222222,
              "#7201a8"
             ],
             [
              0.3333333333333333,
              "#9c179e"
             ],
             [
              0.4444444444444444,
              "#bd3786"
             ],
             [
              0.5555555555555556,
              "#d8576b"
             ],
             [
              0.6666666666666666,
              "#ed7953"
             ],
             [
              0.7777777777777778,
              "#fb9f3a"
             ],
             [
              0.8888888888888888,
              "#fdca26"
             ],
             [
              1,
              "#f0f921"
             ]
            ],
            "type": "surface"
           }
          ],
          "table": [
           {
            "cells": {
             "fill": {
              "color": "#EBF0F8"
             },
             "line": {
              "color": "white"
             }
            },
            "header": {
             "fill": {
              "color": "#C8D4E3"
             },
             "line": {
              "color": "white"
             }
            },
            "type": "table"
           }
          ]
         },
         "layout": {
          "annotationdefaults": {
           "arrowcolor": "#2a3f5f",
           "arrowhead": 0,
           "arrowwidth": 1
          },
          "autotypenumbers": "strict",
          "coloraxis": {
           "colorbar": {
            "outlinewidth": 0,
            "ticks": ""
           }
          },
          "colorscale": {
           "diverging": [
            [
             0,
             "#8e0152"
            ],
            [
             0.1,
             "#c51b7d"
            ],
            [
             0.2,
             "#de77ae"
            ],
            [
             0.3,
             "#f1b6da"
            ],
            [
             0.4,
             "#fde0ef"
            ],
            [
             0.5,
             "#f7f7f7"
            ],
            [
             0.6,
             "#e6f5d0"
            ],
            [
             0.7,
             "#b8e186"
            ],
            [
             0.8,
             "#7fbc41"
            ],
            [
             0.9,
             "#4d9221"
            ],
            [
             1,
             "#276419"
            ]
           ],
           "sequential": [
            [
             0,
             "#0d0887"
            ],
            [
             0.1111111111111111,
             "#46039f"
            ],
            [
             0.2222222222222222,
             "#7201a8"
            ],
            [
             0.3333333333333333,
             "#9c179e"
            ],
            [
             0.4444444444444444,
             "#bd3786"
            ],
            [
             0.5555555555555556,
             "#d8576b"
            ],
            [
             0.6666666666666666,
             "#ed7953"
            ],
            [
             0.7777777777777778,
             "#fb9f3a"
            ],
            [
             0.8888888888888888,
             "#fdca26"
            ],
            [
             1,
             "#f0f921"
            ]
           ],
           "sequentialminus": [
            [
             0,
             "#0d0887"
            ],
            [
             0.1111111111111111,
             "#46039f"
            ],
            [
             0.2222222222222222,
             "#7201a8"
            ],
            [
             0.3333333333333333,
             "#9c179e"
            ],
            [
             0.4444444444444444,
             "#bd3786"
            ],
            [
             0.5555555555555556,
             "#d8576b"
            ],
            [
             0.6666666666666666,
             "#ed7953"
            ],
            [
             0.7777777777777778,
             "#fb9f3a"
            ],
            [
             0.8888888888888888,
             "#fdca26"
            ],
            [
             1,
             "#f0f921"
            ]
           ]
          },
          "colorway": [
           "#636efa",
           "#EF553B",
           "#00cc96",
           "#ab63fa",
           "#FFA15A",
           "#19d3f3",
           "#FF6692",
           "#B6E880",
           "#FF97FF",
           "#FECB52"
          ],
          "font": {
           "color": "#2a3f5f"
          },
          "geo": {
           "bgcolor": "white",
           "lakecolor": "white",
           "landcolor": "#E5ECF6",
           "showlakes": true,
           "showland": true,
           "subunitcolor": "white"
          },
          "hoverlabel": {
           "align": "left"
          },
          "hovermode": "closest",
          "mapbox": {
           "style": "light"
          },
          "paper_bgcolor": "white",
          "plot_bgcolor": "#E5ECF6",
          "polar": {
           "angularaxis": {
            "gridcolor": "white",
            "linecolor": "white",
            "ticks": ""
           },
           "bgcolor": "#E5ECF6",
           "radialaxis": {
            "gridcolor": "white",
            "linecolor": "white",
            "ticks": ""
           }
          },
          "scene": {
           "xaxis": {
            "backgroundcolor": "#E5ECF6",
            "gridcolor": "white",
            "gridwidth": 2,
            "linecolor": "white",
            "showbackground": true,
            "ticks": "",
            "zerolinecolor": "white"
           },
           "yaxis": {
            "backgroundcolor": "#E5ECF6",
            "gridcolor": "white",
            "gridwidth": 2,
            "linecolor": "white",
            "showbackground": true,
            "ticks": "",
            "zerolinecolor": "white"
           },
           "zaxis": {
            "backgroundcolor": "#E5ECF6",
            "gridcolor": "white",
            "gridwidth": 2,
            "linecolor": "white",
            "showbackground": true,
            "ticks": "",
            "zerolinecolor": "white"
           }
          },
          "shapedefaults": {
           "line": {
            "color": "#2a3f5f"
           }
          },
          "ternary": {
           "aaxis": {
            "gridcolor": "white",
            "linecolor": "white",
            "ticks": ""
           },
           "baxis": {
            "gridcolor": "white",
            "linecolor": "white",
            "ticks": ""
           },
           "bgcolor": "#E5ECF6",
           "caxis": {
            "gridcolor": "white",
            "linecolor": "white",
            "ticks": ""
           }
          },
          "title": {
           "x": 0.05
          },
          "xaxis": {
           "automargin": true,
           "gridcolor": "white",
           "linecolor": "white",
           "ticks": "",
           "title": {
            "standoff": 15
           },
           "zerolinecolor": "white",
           "zerolinewidth": 2
          },
          "yaxis": {
           "automargin": true,
           "gridcolor": "white",
           "linecolor": "white",
           "ticks": "",
           "title": {
            "standoff": 15
           },
           "zerolinecolor": "white",
           "zerolinewidth": 2
          }
         }
        },
        "title": {
         "text": "ATC3 Drug Classes Analysis Nationally (2024)",
         "x": 0.5
        },
        "xaxis": {
         "anchor": "y",
         "domain": [
          0,
          1
         ],
         "title": {
          "text": "Units Reimbursed (Millions)"
         }
        },
        "xaxis2": {
         "anchor": "y2",
         "domain": [
          0,
          1
         ],
         "title": {
          "text": "Number of Prescriptions (Thousands)"
         }
        },
        "yaxis": {
         "anchor": "x",
         "autorange": "reversed",
         "domain": [
          0.55,
          1
         ]
        },
        "yaxis2": {
         "anchor": "x2",
         "autorange": "reversed",
         "domain": [
          0,
          0.45
         ]
        }
       }
      }
     },
     "metadata": {},
     "output_type": "display_data"
    },
    {
     "data": {
      "text/plain": [
       "<function __main__.plot_atc3_analysis(year=2024, state='ALL', top_n=15, metric='Units Reimbursed')>"
      ]
     },
     "execution_count": 12,
     "metadata": {},
     "output_type": "execute_result"
    }
   ],
   "source": [
    "\n",
    "# Create ATC3 aggregation\n",
    "agg_atc3 = final_merged.groupby(['State', 'ATC3 Class', 'ATC3_Name', 'Year']).agg({\n",
    "    'Units Reimbursed': 'sum',\n",
    "    'Number of Prescriptions': 'sum'\n",
    "}).reset_index()\n",
    "\n",
    "print(f\"ATC3 aggregated data shape: {agg_atc3.shape}\")\n",
    "print(f\"Unique states: {agg_atc3['State'].nunique()}\")\n",
    "print(f\"Unique ATC3 classes: {agg_atc3['ATC3 Class'].nunique()}\")\n",
    "print(f\"Years available: {sorted(agg_atc3['Year'].unique())}\")\n",
    "\n",
    "# Interactive plotting function\n",
    "def plot_atc3_analysis(year=2024, state='ALL', top_n=15, metric='Units Reimbursed'):\n",
    "    # Filter data by year first\n",
    "    year_data = agg_atc3[agg_atc3['Year'] == year].copy()\n",
    "    \n",
    "    # Filter data by state\n",
    "    if state == 'ALL':\n",
    "        plot_data = year_data.groupby(['ATC3 Class', 'ATC3_Name']).agg({\n",
    "            'Units Reimbursed': 'sum',\n",
    "            'Number of Prescriptions': 'sum'\n",
    "        }).reset_index()\n",
    "        title_suffix = f\"Nationally ({year})\"\n",
    "    else:\n",
    "        plot_data = year_data[year_data['State'] == state].copy()\n",
    "        title_suffix = f\"in {state} ({year})\"\n",
    "    \n",
    "    # Sort by selected metric and get top N\n",
    "    plot_data = plot_data.sort_values(metric, ascending=False).head(top_n)\n",
    "    \n",
    "    # Create subplot figure\n",
    "    fig = make_subplots(\n",
    "        rows=2, cols=1,\n",
    "        subplot_titles=(f'Top {top_n} ATC3 Classes by Units Reimbursed {title_suffix}',\n",
    "                       f'Top {top_n} ATC3 Classes by Number of Prescriptions {title_suffix}'),\n",
    "        vertical_spacing=0.1\n",
    "    )\n",
    "    \n",
    "    # Units Reimbursed plot\n",
    "    fig.add_trace(\n",
    "        go.Bar(\n",
    "            x=plot_data['Units Reimbursed'],\n",
    "            y=plot_data['ATC3_Name'],\n",
    "            orientation='h',\n",
    "            name='Units Reimbursed',\n",
    "            text=plot_data['Units Reimbursed'].round(1),\n",
    "            textposition='auto',\n",
    "            marker_color='lightblue'\n",
    "        ),\n",
    "        row=1, col=1\n",
    "    )\n",
    "    \n",
    "    # Re-sort for prescriptions\n",
    "    plot_data_presc = plot_data.sort_values('Number of Prescriptions', ascending=False).head(top_n)\n",
    "    \n",
    "    # Number of Prescriptions plot\n",
    "    fig.add_trace(\n",
    "        go.Bar(\n",
    "            x=plot_data_presc['Number of Prescriptions'],\n",
    "            y=plot_data_presc['ATC3_Name'],\n",
    "            orientation='h',\n",
    "            name='Number of Prescriptions',\n",
    "            text=plot_data_presc['Number of Prescriptions'].round(1),\n",
    "            textposition='auto',\n",
    "            marker_color='lightcoral'\n",
    "        ),\n",
    "        row=2, col=1\n",
    "    )\n",
    "    \n",
    "    # Update layout\n",
    "    fig.update_layout(\n",
    "        height=800,\n",
    "        showlegend=False,\n",
    "        title_text=f\"ATC3 Drug Classes Analysis {title_suffix}\",\n",
    "        title_x=0.5\n",
    "    )\n",
    "    \n",
    "    # Update x-axes\n",
    "    fig.update_xaxes(title_text=\"Units Reimbursed (Millions)\", row=1, col=1)\n",
    "    fig.update_xaxes(title_text=\"Number of Prescriptions (Thousands)\", row=2, col=1)\n",
    "    \n",
    "    # Update y-axes to show full names\n",
    "    fig.update_yaxes(autorange=\"reversed\", row=1, col=1)\n",
    "    fig.update_yaxes(autorange=\"reversed\", row=2, col=1)\n",
    "    \n",
    "    fig.show()\n",
    "    \n",
    "    # Print summary statistics\n",
    "    print(f\"\\nSummary for {title_suffix}:\")\n",
    "    print(f\"Total ATC3 classes: {len(plot_data)}\")\n",
    "    print(f\"Total Units Reimbursed: {plot_data['Units Reimbursed'].sum():.1f} million\")\n",
    "    print(f\"Total Prescriptions: {plot_data['Number of Prescriptions'].sum():.1f} thousand\")\n",
    "\n",
    "# Create widget for interactive plotting\n",
    "states_list = ['ALL'] + sorted(agg_atc3['State'].unique().tolist())\n",
    "years_list = sorted(agg_atc3['Year'].unique().tolist())\n",
    "\n",
    "# Interactive widget\n",
    "interact(plot_atc3_analysis,\n",
    "         year=Dropdown(options=years_list, value=2024, description='Year:'),\n",
    "         state=Dropdown(options=states_list, value='ALL', description='State:'),\n",
    "         top_n=Dropdown(options=[10, 15, 20, 25], value=15, description='Top N:'),\n",
    "         metric=Dropdown(options=['Units Reimbursed', 'Number of Prescriptions'], \n",
    "                        value='Units Reimbursed', description='Sort by:'))"
   ]
  },
  {
   "cell_type": "code",
   "execution_count": 13,
   "id": "54d83a1c",
   "metadata": {},
   "outputs": [
    {
     "name": "stdout",
     "output_type": "stream",
     "text": [
      "   dms_orig  dms_dest               sctg2                   dms_mode  \\\n",
      "0        11         1  21-Pharmaceuticals                    1-Truck   \n",
      "1        11         1  21-Pharmaceuticals    5-Multiple modes & mail   \n",
      "2        11         2  21-Pharmaceuticals    5-Multiple modes & mail   \n",
      "3        11         4  21-Pharmaceuticals  4-Air (include truck-air)   \n",
      "4        11         4  21-Pharmaceuticals    5-Multiple modes & mail   \n",
      "\n",
      "   thousand tons in 2017  thousand tons in 2018  thousand tons in 2019  \\\n",
      "0                79.8276                75.7832                77.5229   \n",
      "1                 5.7772                 5.4845                 5.6104   \n",
      "2                 0.0001                 0.0000                 0.0000   \n",
      "3                 0.0238                 0.0226                 0.0231   \n",
      "4                 0.1350                 0.1281                 0.1311   \n",
      "\n",
      "   thousand tons in 2020  thousand tons in 2021  thousand tons in 2022  ...  \\\n",
      "0                79.5264                83.8156                91.2031  ...   \n",
      "1                 5.7554                 6.0659                 6.6005  ...   \n",
      "2                 0.0001                 0.0001                 0.0001  ...   \n",
      "3                 0.0237                 0.0250                 0.0272  ...   \n",
      "4                 0.1345                 0.1417                 0.1542  ...   \n",
      "\n",
      "   thousand tons in 2035_high  thousand tons in 2040  \\\n",
      "0                    173.2537               200.1272   \n",
      "1                     12.0651                13.8194   \n",
      "2                      0.0001                 0.0001   \n",
      "3                      0.0434                 0.0517   \n",
      "4                      0.2462                 0.2935   \n",
      "\n",
      "   thousand tons in 2040_low  thousand tons in 2040_high  \\\n",
      "0                   191.5130                    204.1298   \n",
      "1                    13.3017                     14.0958   \n",
      "2                     0.0001                      0.0001   \n",
      "3                     0.0511                      0.0527   \n",
      "4                     0.2901                      0.2994   \n",
      "\n",
      "   thousand tons in 2045  thousand tons in 2045_low  \\\n",
      "0               236.2824                   223.6532   \n",
      "1                16.1751                    15.3967   \n",
      "2                 0.0001                     0.0001   \n",
      "3                 0.0629                     0.0618   \n",
      "4                 0.3569                     0.3509   \n",
      "\n",
      "   thousand tons in 2045_high  thousand tons in 2050  \\\n",
      "0                    241.0081               275.0769   \n",
      "1                     16.4986                18.7110   \n",
      "2                      0.0001                 0.0001   \n",
      "3                      0.0641                 0.0765   \n",
      "4                      0.3640                 0.4340   \n",
      "\n",
      "   thousand tons in 2050_low  thousand tons in 2050_high  \n",
      "0                   257.6449                    280.5784  \n",
      "1                    17.6146                     19.0852  \n",
      "2                     0.0001                      0.0001  \n",
      "3                     0.0747                      0.0780  \n",
      "4                     0.4238                      0.4427  \n",
      "\n",
      "[5 rows x 27 columns]\n",
      "Records flowing to Indiana: 209\n",
      "Unique origins shipping to Indiana: 108\n",
      "Available years: ['thousand tons in 2017', 'thousand tons in 2018', 'thousand tons in 2019', 'thousand tons in 2020', 'thousand tons in 2021', 'thousand tons in 2022', 'thousand tons in 2023', 'thousand tons in 2024', 'thousand tons in 2030', 'thousand tons in 2035']...\n",
      "\n",
      "Total freight to Indiana by year (first 10 years):\n",
      "thousand tons in 2017: 457 thousand tons\n",
      "thousand tons in 2018: 434 thousand tons\n",
      "thousand tons in 2019: 444 thousand tons\n",
      "thousand tons in 2020: 455 thousand tons\n",
      "thousand tons in 2021: 480 thousand tons\n",
      "thousand tons in 2022: 522 thousand tons\n",
      "thousand tons in 2023: 543 thousand tons\n",
      "thousand tons in 2024: 582 thousand tons\n",
      "thousand tons in 2030: 782 thousand tons\n",
      "thousand tons in 2035: 916 thousand tons\n",
      "thousand tons in 2040: 1,073 thousand tons\n",
      "thousand tons in 2045: 1,259 thousand tons\n",
      "thousand tons in 2050: 1,459 thousand tons\n"
     ]
    },
    {
     "data": {
      "image/png": "[encoded data removed]",
      "text/plain": [
       "<Figure size 1200x600 with 1 Axes>"
      ]
     },
     "metadata": {},
     "output_type": "display_data"
    },
    {
     "name": "stdout",
     "output_type": "stream",
     "text": [
      "\n",
      "Summary for Indiana freight flows:\n",
      "Average annual freight: 724 thousand tons\n",
      "Peak year: 2050 with 1,459 thousand tons\n"
     ]
    }
   ],
   "source": [
    "#SEEING INDIANA FAF DATA\n",
    "import re\n",
    "# Load FAF data and create state filtering system\n",
    "\n",
    "# Load the CSV file as a pandas DataFrame\n",
    "#r\"c:\\Users\\lholguin\\OneDrive - purdue.edu\\VS code\\Data\"\n",
    "csv_path = rf\"c:\\Users\\{user}\\OneDrive - purdue.edu\\VS code\\Data\\FAF\\Dataset1.csv\"\n",
    "df = pd.read_csv(csv_path)\n",
    "#df.head()\n",
    "#df.columns.values\n",
    "\n",
    "def extract_number(val):\n",
    "    match = re.match(r'(\\d+)-[A-Za-z]+', str(val))\n",
    "    if match:\n",
    "        return int(match.group(1))\n",
    "    return val\n",
    "\n",
    "# Replace 'col' with the actual column name you want to process\n",
    "df['dms_orig'] = df['dms_orig'].apply(extract_number)\n",
    "df['dms_dest'] = df['dms_dest'].apply(extract_number)\n",
    "print(df.head())\n",
    "\n",
    "# Filter for flows TO Indiana from ALL origins and ALL transportation modes\n",
    "target_dest = 18  # Indiana destination code\n",
    "indiana_flows = df[df['dms_dest'] == target_dest].copy()\n",
    "\n",
    "print(f\"Records flowing to Indiana: {len(indiana_flows)}\")\n",
    "print(f\"Unique origins shipping to Indiana: {indiana_flows['dms_orig'].nunique()}\")\n",
    "\n",
    "# Get all year columns (2017-2050, excluding forecasts)\n",
    "year_columns = [col for col in df.columns if col.startswith('thousand') and '_' not in col.lower()]\n",
    "print(f\"Available years: {year_columns[:10]}...\")  # Show first 10 years\n",
    "\n",
    "# Sum ALL freight (all origins, all modes) to Indiana by year\n",
    "yearly_totals = indiana_flows[year_columns].sum()\n",
    "\n",
    "# Show results for first 10 years\n",
    "print(f\"\\nTotal freight to Indiana by year (first 10 years):\")\n",
    "for year in year_columns[:15]:\n",
    "    print(f\"{year}: {yearly_totals[year]:,.0f} thousand tons\")\n",
    "plt.figure(figsize=(12, 6))\n",
    "\n",
    "\n",
    "# FIXED: Extract years correctly from column names\n",
    "years = []\n",
    "for col in year_columns:\n",
    "    # Extract year from column name like 'thousand tons in 2017'\n",
    "    year_match = re.search(r'(\\d{4})', col)\n",
    "    if year_match:\n",
    "        years.append(int(year_match.group(1)))\n",
    "\n",
    "values = [yearly_totals[year_col] for year_col in year_columns]\n",
    "\n",
    "plt.plot(years, values, marker='o', linewidth=2)\n",
    "plt.title('Total Freight Flow TO Indiana (All Origins, All Modes)')\n",
    "plt.xlabel('Year')\n",
    "plt.ylabel('Thousand Tons')\n",
    "plt.grid(True)\n",
    "plt.xticks(rotation=45)\n",
    "plt.tight_layout()\n",
    "plt.show()\n",
    "\n",
    "# Show summary statistics\n",
    "print(f\"\\nSummary for Indiana freight flows:\")\n",
    "print(f\"Average annual freight: {np.mean(values):,.0f} thousand tons\")\n",
    "print(f\"Peak year: {years[np.argmax(values)]} with {max(values):,.0f} thousand tons\")"
   ]
  },
  {
   "cell_type": "code",
   "execution_count": null,
   "id": "87c42b5c",
   "metadata": {},
   "outputs": [],
   "source": []
  }
 ],
 "metadata": {
  "kernelspec": {
   "display_name": "Python 3",
   "language": "python",
   "name": "python3"
  },
  "language_info": {
   "codemirror_mode": {
    "name": "ipython",
    "version": 3
   },
   "file_extension": ".py",
   "mimetype": "text/x-python",
   "name": "python",
   "nbconvert_exporter": "python",
   "pygments_lexer": "ipython3",
   "version": "3.13.3"
  }
 },
 "nbformat": 4,
 "nbformat_minor": 5
}
