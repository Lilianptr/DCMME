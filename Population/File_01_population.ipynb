{
 "cells": [
  {
   "cell_type": "code",
   "execution_count": 18,
   "metadata": {},
   "outputs": [],
   "source": [
    "import pandas as pd\n",
    "import numpy as np"
   ]
  },
  {
   "cell_type": "code",
   "execution_count": null,
   "metadata": {},
   "outputs": [
    {
     "name": "stdout",
     "output_type": "stream",
     "text": [
      "  Geographic Area  April 1, 2010 Estimates Base         2010         2011  \\\n",
      "0   United States                   308758105.0  309378227.0  311839461.0   \n",
      "1       Northeast                    55318414.0   55422736.0   55818637.0   \n",
      "2         Midwest                    66929737.0   66990957.0   67242411.0   \n",
      "3           South                   114563042.0  114863745.0  115991037.0   \n",
      "4            West                    71946912.0   72100789.0   72787376.0   \n",
      "\n",
      "          2012         2013         2014         2015         2016  \\\n",
      "0  314339099.0  316726282.0  319257560.0  321815121.0  324353340.0   \n",
      "1   56161789.0   56460251.0   56737161.0   56936961.0   57116757.0   \n",
      "2   67489449.0   67780382.0   68032120.0   68214912.0   68410263.0   \n",
      "3  117212918.0  118323170.0  119569436.0  120929644.0  122277136.0   \n",
      "4   73474943.0   74162479.0   74918843.0   75733604.0   76549184.0   \n",
      "\n",
      "          2017         2018         2019  April 1, 2020 Census  \n",
      "0  326608609.0  328529577.0  330226227.0           331449390.0  \n",
      "1   57304709.0   57474216.0   57560957.0            57609134.0  \n",
      "2   68615113.0   68780477.0   68920237.0            68985268.0  \n",
      "3  123445860.0  124461210.0  125475828.0           126266363.0  \n",
      "4   77242927.0   77813674.0   78269205.0            78588625.0  \n"
     ]
    }
   ],
   "source": [
    "df=pd.read_excel('20102020_pop.xlsx')\n",
    "print(df.head())"
   ]
  }
 ],
 "metadata": {
  "kernelspec": {
   "display_name": "Python 3",
   "language": "python",
   "name": "python3"
  },
  "language_info": {
   "codemirror_mode": {
    "name": "ipython",
    "version": 3
   },
   "file_extension": ".py",
   "mimetype": "text/x-python",
   "name": "python",
   "nbconvert_exporter": "python",
   "pygments_lexer": "ipython3",
   "version": "3.13.3"
  }
 },
 "nbformat": 4,
 "nbformat_minor": 2
}
