{
 "cells": [
  {
   "cell_type": "code",
   "execution_count": 2,
   "id": "95878a73",
   "metadata": {},
   "outputs": [],
   "source": [
    "import pandas as pd\n",
    "import numpy as np"
   ]
  },
  {
   "cell_type": "code",
   "execution_count": 4,
   "id": "6478c6ca",
   "metadata": {},
   "outputs": [
    {
     "name": "stdout",
     "output_type": "stream",
     "text": [
      "Reading CSV file with proper dtype to preserve leading zeros...\n",
      "Total rows in 2024 before filtering: 5205065\n",
      "Total rows after removing NA values in Units/Prescriptions: 2599748\n",
      "Rows removed by NA filter: 2605317\n",
      "Total rows after filtering out State='XX': 2362630\n",
      "Rows removed by State filter: 237118\n",
      "Unique NDCs 33397\n"
     ]
    }
   ],
   "source": [
    "# Read the CSV file with NDC column as string to preserve leading zeros\n",
    "year = 2024\n",
    "csv_file = fr\"c:\\Users\\asus\\OneDrive - purdue.edu\\VS code\\Data\\SDUD\\SDUD{year}.csv\"\n",
    "\n",
    "#Personal pc path: r\"c:\\Users\\asus\\OneDrive - purdue.edu\\VS code\\Data\\SDUD\\SDUD{year}.csv\"\n",
    "#Office path: \"C:\\Users\\lholguin\\OneDrive - purdue.edu\\VS code\\Data\\SDUD\\SDUD{year}.csv\"\n",
    "\n",
    "#personal pc: r\"c:\\Users\\asus\\OneDrive - purdue.edu\\VS code\\Data\\SDUD\\SDUD2024.csv\"\n",
    "print(\"Reading CSV file with proper dtype to preserve leading zeros...\")\n",
    "\n",
    "# Force NDC column to be read as string/object to preserve leading zeros\n",
    "df = pd.read_csv(csv_file, dtype={'NDC': 'object'})\n",
    "\n",
    "# Filter out rows with NA values in 'Units Reimbursed' or 'Number of Prescriptions' first\n",
    "print(rf\"Total rows in {year} before filtering: {len(df)}\")\n",
    "df_filtered = df.dropna(subset=['Units Reimbursed', 'Number of Prescriptions'])\n",
    "print(f\"Total rows after removing NA values in Units/Prescriptions: {len(df_filtered)}\")\n",
    "print(f\"Rows removed by NA filter: {len(df) - len(df_filtered)}\")\n",
    "\n",
    "# Then filter out rows where State column equals 'XX'\n",
    "before_state_filter = len(df_filtered)\n",
    "df_filtered = df_filtered[df_filtered['State'] != 'XX']\n",
    "print(f\"Total rows after filtering out State='XX': {len(df_filtered)}\")\n",
    "print(f\"Rows removed by State filter: {before_state_filter - len(df_filtered)}\")\n",
    "print(\"Unique NDCs\", df_filtered['NDC'].nunique())\n"
   ]
  },
  {
   "cell_type": "code",
   "execution_count": null,
   "id": "5fcf539d",
   "metadata": {},
   "outputs": [],
   "source": [
    "#Generating the txt file with the NDC values\n",
    "# Save to text file\n",
    "\n",
    "# Extract NDC column from filtered data - it's already in string format now\n",
    "ndc_values = df_filtered['NDC']\n",
    "output_file = rf\"C:\\Users\\lholguin\\OneDrive - purdue.edu\\VS code\\Data\\ATC\\NDCf_{year}.txt\"\n",
    "print(f\"Extracting {len(ndc_values)} NDC values with leading zeros preserved (excluding State='XX' and NA values)...\")\n",
    "\n",
    "with open(output_file, 'w') as f:\n",
    "    for ndc in ndc_values:\n",
    "        f.write(str(ndc) + '\\n')\n",
    "\n",
    "print(f\"Successfully saved {len(ndc_values)} NDC values to NDCf_{year}.txt (State != 'XX', no NA values)\")\n",
    "print(f\"Unique NDC values: {ndc_values.nunique()}\")\n",
    "print(\"First 10 NDC values (with leading zeros):\")\n",
    "print(ndc_values.head(10).tolist())"
   ]
  },
  {
   "cell_type": "code",
   "execution_count": 10,
   "id": "4d9c8a17",
   "metadata": {},
   "outputs": [
    {
     "name": "stdout",
     "output_type": "stream",
     "text": [
      "Unique ATC4 Classes in ATC4 mapping file: 612\n",
      "Index(['NDC', 'ATC4 Class'], dtype='object')\n",
      "Unique NDCs of ATC csv 2024: 32204\n",
      "Total rows 61470\n",
      "ATC4 Class\n",
      "H02AB    894\n",
      "N06BA    762\n",
      "S01BA    757\n",
      "C05AA    746\n",
      "N06AX    746\n",
      "B05XA    723\n",
      "R01AD    718\n",
      "N03AX    702\n",
      "S01AA    698\n",
      "C10AA    655\n",
      "Name: count, dtype: int64\n",
      "Filtered dataset has 2362630 rows\n",
      "Merged dataframe has 4360194 rows\n",
      "Unique NDCs in merged dataframe: 33397\n",
      "count\n",
      "1     21590\n",
      "2      4098\n",
      "3      3168\n",
      "4       911\n",
      "5       718\n",
      "7       523\n",
      "11      270\n",
      "8       267\n",
      "6       241\n",
      "9       179\n",
      "Name: count, dtype: int64\n"
     ]
    }
   ],
   "source": [
    "# read ATC4 mapping, ensure NDC is read as string and zero-padded to 11 digits\n",
    "file_path=rf'C:\\Users\\asus\\OneDrive - purdue.edu\\VS code\\Data\\ATC\\NDCf_{year}_ATC4_classes.csv'\n",
    "#Personal pc path r'C:\\Users\\asus\\OneDrive - purdue.edu\\VS code\\Data\\ATC\\NDCf_{year}_ATC4_classes.csv'\n",
    "#office path: r\"C:\\Users\\lholguin\\OneDrive - purdue.edu\\VS code\\Data\\ATC\\NDCf_{year}_ATC4_classes.csv\"\n",
    "df_atc4 = pd.read_csv(file_path, dtype={'NDC': 'object'})\n",
    "df_atc4['NDC'] = df_atc4['NDC'].str.zfill(11)\n",
    "#How many unique atc4 classes are there in the mapping file?\n",
    "print(f\"Unique ATC4 Classes in ATC4 mapping file: {df_atc4['ATC4 Class'].nunique()}\")\n",
    "\n",
    "print(df_atc4.columns)\n",
    "print( rf\"Unique NDCs of ATC csv {year}:\", df_atc4['NDC'].nunique())\n",
    "print(\"Total rows\", len(df_atc4))\n",
    "top_classes = df_atc4['ATC4 Class'].value_counts()\n",
    "print(top_classes.head(10))\n",
    "print(f\"Filtered dataset has {len(df_filtered)} rows\")\n",
    "\n",
    "# Merge filtered SDUD data with ATC4 mapping on NDC\n",
    "\n",
    "merged_df=pd.merge(df_filtered, df_atc4, on='NDC', how='left')\n",
    "print(f\"Merged dataframe has {len(merged_df)} rows\")\n",
    "print(f\"Unique NDCs in merged dataframe: {merged_df['NDC'].nunique()}\")\n",
    "atc_counts = df_atc4['NDC'].value_counts()\n",
    "print(atc_counts.value_counts().head(10))\n"
   ]
  },
  {
   "cell_type": "code",
   "execution_count": 8,
   "id": "0933b97a",
   "metadata": {},
   "outputs": [
    {
     "name": "stdout",
     "output_type": "stream",
     "text": [
      "NDCs without ATC4 Class: 1193\n",
      "['00069034405', '00069246510', '00264785000', '00469650189', '00527143501', '00536408501', '00574030216', '00574030316', '00591292754', '13811052501']\n",
      "Saved missing NDCs to C:\\Users\\asus\\OneDrive - purdue.edu\\VS code\\Data\\ATC\\NDC_missing_2024.txt\n",
      "Unique ATC4 Classes in merged dataframe: 612\n"
     ]
    }
   ],
   "source": [
    "# Looking at the unique ndc codes that does not have an atc4 class\n",
    "missing_atc = merged_df[merged_df['ATC4 Class'].isna()]\n",
    "print(f\"NDCs without ATC4 Class: {missing_atc['NDC'].nunique()}\")\n",
    "print(missing_atc['NDC'].head(10).tolist())\n",
    "#Let's print those NDC codes to a text file\n",
    "missing_ndc_file = rf\"C:\\Users\\asus\\OneDrive - purdue.edu\\VS code\\Data\\ATC\\NDC_missing_{year}.txt\"\n",
    "with open(missing_ndc_file, 'w') as f:\n",
    "    for ndc in missing_atc['NDC'].unique():\n",
    "        f.write(str(ndc) + '\\n')\n",
    "print(f\"Saved missing NDCs to {missing_ndc_file}\")\n",
    "\n",
    "#Looking at the unique atc4 classes in the merged dataframe\n",
    "print(f\"Unique ATC4 Classes in merged dataframe: {merged_df['ATC4 Class'].nunique()}\")\n"
   ]
  },
  {
   "cell_type": "code",
   "execution_count": 8,
   "id": "d6217936",
   "metadata": {},
   "outputs": [
    {
     "name": "stdout",
     "output_type": "stream",
     "text": [
      "           NDC            ATC5 Class\n",
      "0  70756061270  No ATC Mapping Found\n",
      "1    904020261        No RxCUI Found\n",
      "2  52544063028        No RxCUI Found\n",
      "3  67919001101        No RxCUI Found\n",
      "4  13668001830        No RxCUI Found\n",
      "Unique RxCUI in missing NDC mapping: 1674\n",
      "Unique ATC5 Class in missing NDC mapping: 266\n"
     ]
    }
   ],
   "source": [
    "#Note that using the mapping atc5 for missing ndc is a little bit more detailed. Let's analyze it\n",
    "miss_path=rf'C:\\Users\\lholguin\\OneDrive - purdue.edu\\VS code\\Data\\ATC\\NDC_missing_{year}_ATC5_classes.csv'\n",
    "# C:\\Users\\lholguin\\OneDrive - purdue.edu\\VS code\\Data\\ATC\\NDC_missing_2024_ATC5_classes.csv\n",
    "df_miss=pd.read_csv(miss_path)\n",
    "print(df_miss.head())\n",
    "Rxcui_no = df_miss[df_miss['ATC5 Class'] == 'No RxCUI Found'].shape[0]\n",
    "ATClass_no = df_miss[df_miss['ATC5 Class'] == 'No ATC Mapping Found'].shape[0]\n",
    "print(f\"Unique RxCUI in missing NDC mapping: {Rxcui_no}\")\n",
    "print(f\"Unique ATC5 Class in missing NDC mapping: {ATClass_no}\")"
   ]
  }
 ],
 "metadata": {
  "kernelspec": {
   "display_name": "Python 3",
   "language": "python",
   "name": "python3"
  },
  "language_info": {
   "codemirror_mode": {
    "name": "ipython",
    "version": 3
   },
   "file_extension": ".py",
   "mimetype": "text/x-python",
   "name": "python",
   "nbconvert_exporter": "python",
   "pygments_lexer": "ipython3",
   "version": "3.13.1"
  }
 },
 "nbformat": 4,
 "nbformat_minor": 5
}
