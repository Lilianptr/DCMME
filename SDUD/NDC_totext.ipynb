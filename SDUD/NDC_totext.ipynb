{
 "cells": [
  {
   "cell_type": "code",
   "execution_count": 6,
   "id": "95878a73",
   "metadata": {},
   "outputs": [],
   "source": [
    "import pandas as pd\n",
    "import numpy as np"
   ]
  },
  {
   "cell_type": "code",
   "execution_count": 28,
   "id": "6478c6ca",
   "metadata": {},
   "outputs": [
    {
     "name": "stdout",
     "output_type": "stream",
     "text": [
      "Reading CSV file with proper dtype to preserve leading zeros...\n",
      "Total rows before filtering: 5205065\n",
      "Total rows after filtering out State='XX': 4888046\n",
      "Rows removed by State filter: 317019\n",
      "Total rows after removing NA values in Units/Prescriptions: 2362630\n",
      "Extracting 2362630 NDC values with leading zeros preserved (excluding State='XX' and NA values)...\n",
      "Successfully saved 2362630 NDC values to NDC_2024_filtered.txt (State != 'XX', no NA values)\n",
      "Unique NDC values: 33397\n",
      "First 10 NDC values (with leading zeros):\n",
      "['00002143380', '00002143480', '00002143611', '00002144511', '00002145780', '00002146080', '00002147180', '00002148480', '00002149580', '00002150680']\n"
     ]
    }
   ],
   "source": [
    "# Read the CSV file with NDC column as string to preserve leading zeros\n",
    "csv_file = r\"c:\\Users\\asus\\OneDrive - purdue.edu\\VS code\\Data\\SDUD\\SDUD2024.csv\"\n",
    "print(\"Reading CSV file with proper dtype to preserve leading zeros...\")\n",
    "\n",
    "# Force NDC column to be read as string/object to preserve leading zeros\n",
    "df = pd.read_csv(csv_file, dtype={'NDC': 'object'})\n",
    "\n",
    "# Filter out rows where State column equals 'XX'\n",
    "print(f\"Total rows before filtering: {len(df)}\")\n",
    "df_filtered = df[df['State'] != 'XX']\n",
    "print(f\"Total rows after filtering out State='XX': {len(df_filtered)}\")\n",
    "print(f\"Rows removed by State filter: {len(df) - len(df_filtered)}\")\n",
    "\n",
    "# Filter out rows with NA values in 'Units Reimbursed' or 'Number of Prescriptions'\n",
    "before_na_filter = len(df_filtered)\n",
    "df_filtered = df_filtered.dropna(subset=['Units Reimbursed', 'Number of Prescriptions'])\n",
    "print(f\"Total rows after removing NA values in Units/Prescriptions: {len(df_filtered)}\")\n",
    "#print(f\"Rows removed by NA filter: {before_na_filter - len(df_filtered)}\")\n",
    "\n",
    "# Extract NDC column from filtered data - it's already in string format now\n",
    "ndc_values = df_filtered['NDC']\n",
    "\n",
    "# Save to text file\n",
    "output_file = r\"c:\\Users\\asus\\OneDrive - purdue.edu\\VS code\\Data\\ATC\\NDCf_2024.txt\"\n",
    "print(f\"Extracting {len(ndc_values)} NDC values with leading zeros preserved (excluding State='XX' and NA values)...\")\n",
    "\n",
    "with open(output_file, 'w') as f:\n",
    "    for ndc in ndc_values:\n",
    "        f.write(str(ndc) + '\\n')\n",
    "\n",
    "print(f\"Successfully saved {len(ndc_values)} NDC values to NDC_2024_filtered.txt (State != 'XX', no NA values)\")\n",
    "print(f\"Unique NDC values: {ndc_values.nunique()}\")\n",
    "print(\"First 10 NDC values (with leading zeros):\")\n",
    "print(ndc_values.head(10).tolist())"
   ]
  },
  {
   "cell_type": "code",
   "execution_count": 31,
   "id": "4d9c8a17",
   "metadata": {},
   "outputs": [
    {
     "name": "stdout",
     "output_type": "stream",
     "text": [
      "Index(['NDC', 'ATC4 Class'], dtype='object')\n",
      "Unique NDCs 32204\n",
      "Total rows 61470\n",
      "ATC4 Class\n",
      "H02AB    894\n",
      "N06BA    762\n",
      "S01BA    757\n",
      "C05AA    746\n",
      "N06AX    746\n",
      "B05XA    723\n",
      "R01AD    718\n",
      "N03AX    702\n",
      "S01AA    698\n",
      "C10AA    655\n",
      "Name: count, dtype: int64\n",
      "Filtered dataset has 2362630 rows\n",
      "Merged dataframe has 4360194 rows\n",
      "Unique NDCs in merged dataframe: 33397\n",
      "count\n",
      "1     21590\n",
      "2      4098\n",
      "3      3168\n",
      "4       911\n",
      "5       718\n",
      "7       523\n",
      "11      270\n",
      "8       267\n",
      "6       241\n",
      "9       179\n",
      "Name: count, dtype: int64\n"
     ]
    }
   ],
   "source": [
    "# read ATC4 mapping, ensure NDC is read as string and zero-padded to 11 digits\n",
    "file_path=r'C:\\Users\\asus\\OneDrive - purdue.edu\\VS code\\Data\\ATC\\2024_ATC4_classes.csv'\n",
    "df_atc4 = pd.read_csv(file_path, dtype={'NDC': 'object'})\n",
    "df_atc4['NDC'] = df_atc4['NDC'].str.zfill(11)\n",
    "\n",
    "print(df_atc4.columns)\n",
    "print(\"Unique NDCs\", df_atc4['NDC'].nunique())\n",
    "print(\"Total rows\", len(df_atc4))\n",
    "top_classes = df_atc4['ATC4 Class'].value_counts()\n",
    "print(top_classes.head(10))\n",
    "print(f\"Filtered dataset has {len(df_filtered)} rows\")\n",
    "\n",
    "# Merge filtered SDUD data with ATC4 mapping on NDC\n",
    "\n",
    "merged_df=pd.merge(df_filtered, df_atc4, on='NDC', how='left')\n",
    "print(f\"Merged dataframe has {len(merged_df)} rows\")\n",
    "print(f\"Unique NDCs in merged dataframe: {merged_df['NDC'].nunique()}\")\n",
    "\n",
    "atc_counts = df_atc4['NDC'].value_counts()\n",
    "print(atc_counts.value_counts().head(10))\n"
   ]
  },
  {
   "cell_type": "code",
   "execution_count": null,
   "id": "0933b97a",
   "metadata": {},
   "outputs": [],
   "source": []
  }
 ],
 "metadata": {
  "kernelspec": {
   "display_name": "Python 3",
   "language": "python",
   "name": "python3"
  },
  "language_info": {
   "codemirror_mode": {
    "name": "ipython",
    "version": 3
   },
   "file_extension": ".py",
   "mimetype": "text/x-python",
   "name": "python",
   "nbconvert_exporter": "python",
   "pygments_lexer": "ipython3",
   "version": "3.13.1"
  }
 },
 "nbformat": 4,
 "nbformat_minor": 5
}
