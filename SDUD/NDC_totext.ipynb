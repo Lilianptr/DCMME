{
 "cells": [
  {
   "cell_type": "code",
   "execution_count": null,
   "id": "95878a73",
   "metadata": {},
   "outputs": [],
   "source": [
    "import pandas as pd\n",
    "import numpy as np"
   ]
  },
  {
   "cell_type": "code",
   "execution_count": null,
   "id": "6478c6ca",
   "metadata": {},
   "outputs": [],
   "source": [
    "# Read the CSV file with NDC column as string to preserve leading zeros\n",
    "csv_file = r\"c:\\Users\\asus\\OneDrive - purdue.edu\\VS code\\Data\\SDUD\\SDUD2024.csv\"\n",
    "print(\"Reading CSV file with proper dtype to preserve leading zeros...\")\n",
    "\n",
    "# Force NDC column to be read as string/object to preserve leading zeros\n",
    "df = pd.read_csv(csv_file, dtype={'NDC': 'object'})\n",
    "\n",
    "# Filter out rows where State column equals 'XX'\n",
    "print(f\"Total rows before filtering: {len(df)}\")\n",
    "df_filtered = df[df['State'] != 'XX']\n",
    "print(f\"Total rows after filtering out State='XX': {len(df_filtered)}\")\n",
    "print(f\"Rows removed by State filter: {len(df) - len(df_filtered)}\")\n",
    "\n",
    "# Filter out rows with NA values in 'Units Reimbursed' or 'Number of Prescriptions'\n",
    "before_na_filter = len(df_filtered)\n",
    "df_filtered = df_filtered.dropna(subset=['Units Reimbursed', 'Number of Prescriptions'])\n",
    "print(f\"Total rows after removing NA values in Units/Prescriptions: {len(df_filtered)}\")\n",
    "#print(f\"Rows removed by NA filter: {before_na_filter - len(df_filtered)}\")\n",
    "\n",
    "# Extract NDC column from filtered data - it's already in string format now\n",
    "ndc_values = df_filtered['NDC']\n",
    "\n",
    "# Save to text file\n",
    "output_file = r\"c:\\Users\\asus\\OneDrive - purdue.edu\\VS code\\Data\\SDUD\\NDC_2024_filtered.txt\"\n",
    "print(f\"Extracting {len(ndc_values)} NDC values with leading zeros preserved (excluding State='XX' and NA values)...\")\n",
    "\n",
    "with open(output_file, 'w') as f:\n",
    "    for ndc in ndc_values:\n",
    "        f.write(str(ndc) + '\\n')\n",
    "\n",
    "print(f\"Successfully saved {len(ndc_values)} NDC values to NDC_2024_filtered.txt (State != 'XX', no NA values)\")\n",
    "print(f\"Unique NDC values: {ndc_values.nunique()}\")\n",
    "print(\"First 10 NDC values (with leading zeros):\")\n",
    "print(ndc_values.head(10).tolist())"
   ]
  }
 ],
 "metadata": {
  "language_info": {
   "name": "python"
  }
 },
 "nbformat": 4,
 "nbformat_minor": 5
}
